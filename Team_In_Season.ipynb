{
 "cells": [
  {
   "cell_type": "code",
   "execution_count": 118,
   "metadata": {},
   "outputs": [
    {
     "name": "stdout",
     "output_type": "stream",
     "text": [
      "148.32\n",
      "139.12\n",
      "Week 1\n",
      "Ravens D/ST\n",
      "Deshaun Watson\n",
      "POINTS WITH DESEAN AND DEFENSE 44.72\n",
      "Ezekiel Elliott\n",
      "Damien Williams\n",
      "Tyler Boyd\n",
      "Donte Moncrief\n",
      "George Kittle\n",
      "   position            player  points\n",
      "1        RB       Aaron Jones     4.9\n",
      "4        WR        John Brown    26.3\n",
      "9        RB     Miles Sanders     3.7\n",
      "10       WR  Geronimo Allison     0.0\n",
      "11       WR        DK Metcalf    12.9\n",
      "12       WR     Albert Wilson     3.4\n",
      "13       RB   Darwin Thompson     1.3\n",
      "14       RB     Chase Edmonds     0.5\n",
      "15       WR    Hunter Renfrow     3.3\n",
      "Aaron Jones\n",
      "Miles Sanders\n",
      "135.26\n",
      "133.36\n",
      "Week 2\n",
      "Ravens D/ST\n",
      "Deshaun Watson\n",
      "POINTS WITH DESEAN AND DEFENSE 16.86\n",
      "Ezekiel Elliott\n",
      "Damien Williams\n",
      "Tyler Boyd\n",
      "John Brown\n",
      "George Kittle\n",
      "   position              player  points\n",
      "2        RB         Aaron Jones    26.0\n",
      "7        WR          DK Metcalf    15.1\n",
      "9        RB       Miles Sanders     6.7\n",
      "10       WR    Geronimo Allison    10.5\n",
      "11       WR      Donte Moncrief     0.0\n",
      "12       RB     Darwin Thompson     0.1\n",
      "13       RB       Chase Edmonds     3.7\n",
      "14       RB  Alexander Mattison     2.5\n",
      "15       WR     KeeSean Johnson     6.1\n",
      "Aaron Jones\n",
      "DK Metcalf\n",
      "144.44\n",
      "121.34\n",
      "Week 3\n",
      "49ers D/ST\n",
      "Deshaun Watson\n",
      "POINTS WITH DESEAN AND DEFENSE 33.84\n",
      "Ezekiel Elliott\n",
      "Aaron Jones\n",
      "John Brown\n",
      "Tyler Boyd\n",
      "George Kittle\n",
      "   position              player  points\n",
      "6        RB       Miles Sanders    12.6\n",
      "7        WR          DK Metcalf     8.7\n",
      "10       WR    Geronimo Allison     0.9\n",
      "11       RB     Darwin Thompson     0.8\n",
      "12       RB  Alexander Mattison    11.8\n",
      "13       RB        Tony Pollard    22.8\n",
      "14       WR         Devin Smith     5.9\n",
      "15       WR  Phillip Dorsett II    18.5\n",
      "DK Metcalf\n",
      "Miles Sanders\n",
      "81.7\n",
      "65.1\n",
      "Week 4\n",
      "Ravens D/ST\n",
      "Deshaun Watson\n",
      "POINTS WITH DESEAN AND DEFENSE 5.6\n",
      "Ezekiel Elliott\n",
      "Aaron Jones\n",
      "Tyler Boyd\n",
      "DK Metcalf\n",
      "Vernon Davis\n",
      "   position              player  points\n",
      "4        WR          John Brown    11.9\n",
      "7        WR  Phillip Dorsett II     3.9\n",
      "11       RB       Miles Sanders     7.2\n",
      "12       WR    Geronimo Allison    14.9\n",
      "13       RB     Darwin Thompson     0.0\n",
      "14       RB  Alexander Mattison     2.3\n",
      "15       RB        Tony Pollard     0.0\n",
      "Miles Sanders\n",
      "John Brown\n",
      "201.44\n",
      "190.24\n",
      "Week 5\n",
      "Ravens D/ST\n",
      "Deshaun Watson\n",
      "POINTS WITH DESEAN AND DEFENSE 48.74\n",
      "Ezekiel Elliott\n",
      "Aaron Jones\n",
      "Tyler Boyd\n",
      "John Brown\n",
      "George Kittle\n",
      "   position              player  points\n",
      "6        RB     Damien Williams     6.8\n",
      "7        WR    Geronimo Allison     4.8\n",
      "9        RB       Miles Sanders    10.4\n",
      "10       WR          DK Metcalf    12.4\n",
      "11       RB  Alexander Mattison     5.2\n",
      "12       RB        Tony Pollard     1.9\n",
      "13       WR  Phillip Dorsett II     0.0\n",
      "14       WR        Dante Pettis     2.1\n",
      "Miles Sanders\n",
      "Damien Williams\n",
      "136.5\n",
      "133.5\n",
      "Week 6\n",
      "Ravens D/ST\n",
      "Deshaun Watson\n",
      "POINTS WITH DESEAN AND DEFENSE 36.4\n",
      "Ezekiel Elliott\n",
      "Aaron Jones\n",
      "Tyler Boyd\n",
      "Preston Williams\n",
      "George Kittle\n",
      "   position              player  points\n",
      "4        WR          DK Metcalf    11.3\n",
      "6        RB     Damien Williams     9.0\n",
      "7        RB       Miles Sanders    18.2\n",
      "9        WR    Geronimo Allison     7.0\n",
      "11       RB  Alexander Mattison     4.3\n",
      "12       RB        Tony Pollard     1.3\n",
      "Damien Williams\n",
      "DK Metcalf\n",
      "135.02\n",
      "130.32\n",
      "Week 7\n",
      "Ravens D/ST\n",
      "Deshaun Watson\n",
      "POINTS WITH DESEAN AND DEFENSE 33.519999999999996\n",
      "Ezekiel Elliott\n",
      "Aaron Jones\n",
      "John Brown\n",
      "Tyler Boyd\n",
      "George Kittle\n",
      "   position              player  points\n",
      "2        RB     Damien Williams     2.6\n",
      "7        WR  Phillip Dorsett II    13.6\n",
      "9        RB       Miles Sanders     6.2\n",
      "10       WR    Geronimo Allison     7.3\n",
      "11       WR          DK Metcalf     7.3\n",
      "12       RB  Alexander Mattison     1.8\n",
      "13       RB        Tony Pollard     2.8\n",
      "DK Metcalf\n",
      "Miles Sanders\n",
      "171.26\n",
      "169.56\n",
      "Week 8\n",
      "Steelers D/ST\n",
      "Deshaun Watson\n",
      "POINTS WITH DESEAN AND DEFENSE 42.760000000000005\n",
      "Aaron Jones\n",
      "Miles Sanders\n",
      "John Brown\n",
      "DK Metcalf\n",
      "George Kittle\n",
      "   position              player  points\n",
      "3        WR          Tyler Boyd    12.8\n",
      "7        WR  Phillip Dorsett II     7.3\n",
      "10       RB     Damien Williams     9.0\n",
      "11       RB  Alexander Mattison     8.4\n",
      "Tyler Boyd\n",
      "Damien Williams\n",
      "149.24\n",
      "130.64\n",
      "Week 9\n",
      "Steelers D/ST\n",
      "Deshaun Watson\n",
      "POINTS WITH DESEAN AND DEFENSE 38.739999999999995\n",
      "Ezekiel Elliott\n",
      "Aaron Jones\n",
      "DK Metcalf\n",
      "John Brown\n",
      "George Kittle\n",
      "   position              player  points\n",
      "6        RB       Miles Sanders    10.3\n",
      "7        WR  Phillip Dorsett II     3.3\n",
      "10       RB     Damien Williams    21.8\n",
      "11       RB  Alexander Mattison     0.6\n",
      "12       RB        Tony Pollard     4.0\n",
      "Miles Sanders\n",
      "Damien Williams\n",
      "124.68\n",
      "124.68\n",
      "Week 10\n",
      "Steelers D/ST\n",
      "Philip Rivers\n",
      "POINTS WITH DESEAN AND DEFENSE 32.28\n",
      "Ezekiel Elliott\n",
      "Aaron Jones\n",
      "John Brown\n",
      "DK Metcalf\n",
      "Jonnu Smith\n",
      "   position              player  points\n",
      "6        WR          Tyler Boyd    12.2\n",
      "7        RB     Damien Williams    13.9\n",
      "12       RB  Alexander Mattison     6.4\n",
      "13       RB        Tony Pollard    -0.4\n",
      "Damien Williams\n",
      "Tyler Boyd\n",
      "129.86\n",
      "97.06\n",
      "Week 11\n",
      "Steelers D/ST\n",
      "Deshaun Watson\n",
      "POINTS WITH DESEAN AND DEFENSE 6.96\n",
      "Ezekiel Elliott\n",
      "Damien Williams\n",
      "John Brown\n",
      "Tyler Boyd\n",
      "Ross Dwelley\n",
      "   position              player  points\n",
      "2        RB       Miles Sanders     6.7\n",
      "7        WR        Kenny Stills     6.7\n",
      "12       RB  Alexander Mattison     0.5\n",
      "13       RB        Tony Pollard    17.6\n",
      "14       WR  Phillip Dorsett II    12.3\n",
      "15       RB       Derrius Guice    13.9\n",
      "Miles Sanders\n",
      "Kenny Stills\n",
      "130.32\n",
      "128.32\n",
      "Week 12\n",
      "Steelers D/ST\n",
      "Deshaun Watson\n",
      "POINTS WITH DESEAN AND DEFENSE 31.92\n",
      "Ezekiel Elliott\n",
      "Aaron Jones\n",
      "John Brown\n",
      "DK Metcalf\n",
      "George Kittle\n",
      "   position          player  points\n",
      "6        WR      Tyler Boyd    20.1\n",
      "7        RB   Miles Sanders    11.6\n",
      "11       RB    Tony Pollard     5.8\n",
      "13       RB   Derrius Guice     4.8\n",
      "14       TE    Ross Dwelley     0.0\n",
      "15       RB  Jordan Wilkins     0.0\n",
      "Miles Sanders\n",
      "Derrius Guice\n",
      "172.26\n",
      "134.68\n",
      "Week 13\n",
      "Steelers D/ST\n",
      "Deshaun Watson\n",
      "POINTS WITH DESEAN AND DEFENSE 42.86\n",
      "Ezekiel Elliott\n",
      "Aaron Jones\n",
      "John Brown\n",
      "DK Metcalf\n",
      "George Kittle\n",
      "   position              player  points\n",
      "6        WR          Tyler Boyd    16.9\n",
      "7        RB       Miles Sanders    21.5\n",
      "9        RB  Alexander Mattison    11.3\n",
      "10       RB        Tony Pollard     0.7\n",
      "11       WR  Phillip Dorsett II     3.5\n",
      "12       RB       Derrius Guice    28.7\n",
      "13       TE        Ross Dwelley     0.0\n",
      "14       RB       Rashaad Penny    26.7\n",
      "15       RB         Gus Edwards     3.2\n",
      "Miles Sanders\n",
      "Tyler Boyd\n"
     ]
    }
   ],
   "source": [
    "from selenium import webdriver\n",
    "import time\n",
    "from bs4 import BeautifulSoup\n",
    "import pandas as pd\n",
    "import numpy as np\n",
    "import requests\n",
    "\n",
    "\n",
    "#from selenium.webdriver.common.keys import Keys\n",
    "\n",
    "username = \"espn password\"\n",
    "password = \"account password\"\n",
    "\n",
    "driver = webdriver.Chrome(\"where chromedriver is placed\")\n",
    "driver.get(\"https://fantasy.espn.com/football/team?leagueId=\"+ league_id + \"&teamId=\" + your_team_id + \"&seasonId=\"+ seasonYear + \"&scoringPeriodId=1&statSplit=singleScoringPeriodtime.sleep(10)\")\n",
    "time.sleep(7)\n",
    "\n",
    "iframe = driver.find_elements_by_tag_name('iframe')[2]\n",
    "\n",
    "driver.switch_to.frame(iframe)\n",
    "\n",
    "driver.find_element_by_xpath('//*[@id=\"did-ui-view\"]/div/section/section/form/section/div[1]/div/label/span[2]/input').send_keys(username)\n",
    "driver.find_element_by_xpath('//*[@id=\"did-ui-view\"]/div/section/section/form/section/div[2]/div/label/span[2]/input').send_keys(password)\n",
    "driver.find_element_by_xpath('//*[@id=\"did-ui-view\"]/div/section/section/form/section/div[3]/button').click()\n",
    "time.sleep(7)\n",
    "\n",
    "driver.get(\"https://fantasy.espn.com/football/team?leagueId=1822630&teamId=8&seasonId=2019&scoringPeriodId=1&statSplit=singleScoringPeriodtime.sleep(10)\")\n",
    "\n",
    "time.sleep(7)\n",
    "\n",
    "check = driver.find_elements_by_class_name('Table2__tr Table2__tr--lg Table2__odd')\n",
    "\n",
    "tables = driver.find_elements_by_xpath('//*[@id=\"espn-analytics\"]/div/div[5]/div[2]/div[2]/div/div/div/div[3]/div/div/section/table/tbody/tr/td/div/div/div[2]/table/tbody/tr/td/div/table/tbody/tr[1]')\n",
    "\n",
    "\n",
    "time.sleep(5)\n",
    "\n",
    "\n",
    "url_first = \"https://fantasy.espn.com/football/team?leagueId=\"+ league_id + \"&teamId=\" + your_team_id + \"&seasonId=\"+ seasonYear + \"&scoringPeriodId=\"\n",
    "first_week = 1\n",
    "url_second = \"&statSplit=singleScoringPeriodtime.sleep(10)\"\n",
    "\n",
    "\n",
    "num_starters = 9 \n",
    "num_bench = 7 \n",
    "PRO_POINTS_EVERY_WEEK = []\n",
    "poss_points = []\n",
    "realized_points = [] \n",
    "#doing it for every week of the fantasy season\n",
    "for h in range(13):\n",
    "    driver.get(url_first+str(first_week+h)+url_second)\n",
    "    time.sleep(10)\n",
    "    \n",
    "    \n",
    "    weekly = pd.DataFrame()\n",
    "    player = []\n",
    "    position = []\n",
    "    points = []\n",
    "    for i in range(num_starters):\n",
    "        first_xpath = '//*[@id=\"espn-analytics\"]/div/div[5]/div[2]/div[2]/div/div/div/div[3]/div/div/section/table/tbody/tr/td/div/div/div[2]/table/tbody/tr/td/div/table/tbody/tr['+str(i+1)+']/td[2]/div/div/div[2]/div/div[2]/span[2]'\n",
    "        second_xpath = '//*[@id=\"espn-analytics\"]/div/div[5]/div[2]/div[2]/div/div/div/div[3]/div/div/section/table/tbody/tr/td/div/div/div[2]/table/tbody/tr/td/div/table/tbody/tr['+str(i+1)+']/td[2]/div/div/div[2]/div/div[1]/span[1]/a'\n",
    "        third_xpath = '//*[@id=\"espn-analytics\"]/div/div[5]/div[2]/div[2]/div/div/div/div[3]/div/div/section/table/tbody/tr/td/div/div/div[2]/table/tbody/tr/td/div/table/tbody/tr['+str(i+1)+']/td[7]/div/span'\n",
    "        position.append(driver.find_element_by_xpath(first_xpath).text)\n",
    "        player.append(driver.find_element_by_xpath(second_xpath).text)\n",
    "        points.append(driver.find_element_by_xpath(third_xpath).text)\n",
    "\n",
    "\n",
    "    for i in range(num_bench):\n",
    "        first_xpath = '//*[@id=\"espn-analytics\"]/div/div[5]/div[2]/div[2]/div/div/div/div[3]/div/div/section/table/tbody/tr/td/div/div/div[2]/table/tbody/tr/td/div/table/tbody/tr['+str(i+2+num_starters)+']/td[2]/div/div/div[2]/div/div[2]/span[2]'\n",
    "        second_xpath = '//*[@id=\"espn-analytics\"]/div/div[5]/div[2]/div[2]/div/div/div/div[3]/div/div/section/table/tbody/tr/td/div/div/div[2]/table/tbody/tr/td/div/table/tbody/tr['+str(i+2+num_starters)+']/td[2]/div/div/div[2]/div/div[1]/span[1]/a'\n",
    "        third_xpath = '//*[@id=\"espn-analytics\"]/div/div[5]/div[2]/div[2]/div/div/div/div[3]/div/div/section/table/tbody/tr/td/div/div/div[2]/table/tbody/tr/td/div/table/tbody/tr['+str(i+2+num_starters)+']/td[7]/div/span'\n",
    "        position.append(driver.find_element_by_xpath(first_xpath).text)\n",
    "        player.append(driver.find_element_by_xpath(second_xpath).text)\n",
    "        points.append(driver.find_element_by_xpath(third_xpath).text)\n",
    "\n",
    "    weekly = pd.DataFrame(np.transpose(np.array([position, player, points])), columns=['position', 'player', 'points'])\n",
    "\n",
    "    weekly = weekly[weekly.points != '--']\n",
    "    weekly['points'] = pd.to_numeric(weekly.iloc[:,2])\n",
    "\n",
    "    #find weekly highest possible points\n",
    "    total_score = 0\n",
    "    total_score = total_score + max(weekly[weekly['position'] == 'QB'].iloc[:,2])\n",
    "    total_score = total_score + max(weekly[weekly['position'] == 'TE'].iloc[:,2])\n",
    "    total_score = total_score + max(weekly[weekly['position'] == 'D/ST'].iloc[:,2])\n",
    "    total_score = total_score + weekly[weekly['position'] == 'RB'].nlargest(2,'points').iloc[0,2]\n",
    "    total_score = total_score + weekly[weekly['position'] == 'RB'].nlargest(2,'points').iloc[1,2]\n",
    "    total_score = total_score + weekly[weekly['position'] == 'WR'].nlargest(2,'points').iloc[0,2]\n",
    "    total_score = total_score + weekly[weekly['position'] == 'WR'].nlargest(2,'points').iloc[1,2]\n",
    "\n",
    "    #have to work on flex now\n",
    "    #remove already used players otherwise useable\n",
    "    flexing = weekly[weekly.position != 'QB']\n",
    "    flexing = flexing[flexing.position != 'D/ST']\n",
    "\n",
    "    temp = flexing.loc[flexing['player'] == flexing[flexing['position'] == 'WR'].nlargest(1,'points').iloc[0,1],:].iloc[0,1]\n",
    "    flexing = flexing[flexing.player != temp]\n",
    "\n",
    "    temp = flexing.loc[flexing['player'] == flexing[flexing['position'] == 'WR'].nlargest(1,'points').iloc[0,1],:].iloc[0,1]\n",
    "    flexing = flexing[flexing.player != temp]\n",
    "\n",
    "    temp = flexing.loc[flexing['player'] == flexing[flexing['position'] == 'RB'].nlargest(1,'points').iloc[0,1],:].iloc[0,1]\n",
    "    flexing = flexing[flexing.player != temp]\n",
    "\n",
    "    temp = flexing.loc[flexing['player'] == flexing[flexing['position'] == 'RB'].nlargest(1,'points').iloc[0,1],:].iloc[0,1]\n",
    "    flexing = flexing[flexing.player != temp]\n",
    "\n",
    "    temp = flexing.loc[flexing['player'] == flexing[flexing['position'] == 'TE'].nlargest(1,'points').iloc[0,1],:].iloc[0,1]\n",
    "    flexing = flexing[flexing.player != temp]\n",
    "\n",
    "    total_score = total_score + flexing.nlargest(2,'points').iloc[0,2]\n",
    "    total_score = total_score + flexing.nlargest(2,'points').iloc[1,2]\n",
    "    #have to work on flex now\n",
    "\n",
    "    total_score = round(total_score *100)\n",
    "    total_score = total_score/100\n",
    "\n",
    "    print(total_score)\n",
    "    poss_points.append(total_score)\n",
    "    \n",
    "    \n",
    "    rp = pd.to_numeric(driver.find_element_by_xpath('//*[@id=\"espn-analytics\"]/div/div[5]/div[2]/div[2]/div/div/div/div[3]/div/div/section/table/tbody/tr/td/div/div/div[2]/table/tbody/tr/td/div/table/tbody/tr[10]/td[6]/div').text)\n",
    "    realized_points.append(rp)\n",
    "    print(rp)\n",
    "    print(\"Week\", (h+1))\n",
    "    \n",
    "    \n",
    "    \n",
    "    \n",
    "    \n",
    "    \n",
    "    ########### CALCULATING THE PRO CONSENCOUS SCORE ########################\n",
    "    if (h+1) < 10:\n",
    "        csv_completer = '0'+str(h+1)\n",
    "    else:\n",
    "        csv_completer = str(h+1)\n",
    "    \n",
    "    #get defense dataframe\n",
    "    data = pd.read_csv(\"FantasyPros-W\"+csv_completer+\"-D.csv\")\n",
    "    data.columns = ['Rank', 'player', 'Team', 'Position', 'Min', 'Max', 'STDev']\n",
    "\n",
    "    tempy = weekly\n",
    "    tempy = tempy[tempy.position == 'D/ST']\n",
    "    pros_points = 0\n",
    "    rank = 150\n",
    "\n",
    "    for team in tempy.player:\n",
    "        #print(team)\n",
    "        #print(tempy)\n",
    "        inner_temp = tempy.iloc[0,1].split(' ')\n",
    "        for i in range(len(data.player)):\n",
    "            if inner_temp[0].lower() in re.sub(r'[^\\w\\s]','',data.iloc[i,1].lower()):\n",
    "                if data.iloc[i,0] < rank:\n",
    "                    answer = team\n",
    "    print(answer)\n",
    "    pros_points = weekly.loc[weekly['player'] == answer].iloc[0,2]\n",
    "\n",
    "    weekly\n",
    "\n",
    "    #get QB dataframe\n",
    "    data = pd.read_csv(\"FantasyPros-W\"+csv_completer+\"-QB.csv\")\n",
    "    data.columns = ['Rank', 'player', 'Team', 'Position', 'Min', 'Max', 'STDev']\n",
    "\n",
    "    tempy = weekly\n",
    "    tempy = tempy[tempy.position == 'QB']\n",
    "\n",
    "    rank = 150\n",
    "\n",
    "    for player_ in tempy.player:\n",
    "        #print(team)\n",
    "        #print(tempy)\n",
    "        inner_temp = tempy.iloc[0,1]\n",
    "        for i in range(len(data.player)):\n",
    "            if inner_temp[0].lower() in re.sub(r'[^\\w\\s]','',data.iloc[i,1].lower()):\n",
    "                re.sub(r'[^\\w\\s]','',s)\n",
    "                if data.iloc[i,0] < rank:\n",
    "                    rank = data.iloc[i,0]\n",
    "                    answer = player_\n",
    "    print(answer)\n",
    "    pros_points = pros_points + weekly.loc[weekly['player'] == answer].iloc[0,2]\n",
    "\n",
    "    print('POINTS WITH DESEAN AND DEFENSE', pros_points)\n",
    "\n",
    "    #get Flex dataframe\n",
    "    data = pd.read_csv(\"FantasyPros-W\"+csv_completer+\"-Flex.csv\")\n",
    "    data.columns = ['Rank', 'player', 'Team', 'Position', 'Min', 'Max', 'STDev']\n",
    "\n",
    "    weekly2 = weekly\n",
    "    tempy = weekly2[weekly2.position == 'RB']\n",
    "\n",
    "    rank = 200\n",
    "\n",
    "    temp_data = data.loc[data['Position'] == 'RB']\n",
    "\n",
    "    #need to start 2 rbs\n",
    "    for j in range(2):\n",
    "        #print(tempy)\n",
    "        rank = 150\n",
    "        for player_ in tempy.player:\n",
    "            #print(player_)\n",
    "            #print(type(player_))\n",
    "            #inner_temp = tempy.iloc[0,1]\n",
    "            for i in range(len(temp_data.player)):\n",
    "                if player_.lower() in re.sub(r'[^\\w\\s]','',temp_data.iloc[i,1].lower()):\n",
    "                    re.sub(r'[^\\w\\s]','',s)\n",
    "                    #print('This was true')\n",
    "                    #print(temp_data.iloc[i,1].lower())\n",
    "                    #print(player_.lower())\n",
    "\n",
    "\n",
    "                    if temp_data.iloc[i,0] < rank:\n",
    "                        rank = temp_data.iloc[i,0]\n",
    "                        #print(temp_data.iloc[i,0])\n",
    "                        answer = player_\n",
    "\n",
    "\n",
    "        print(answer)               \n",
    "        pros_points = pros_points + weekly.loc[weekly['player'] == answer].iloc[0,2]\n",
    "\n",
    "        tempy = tempy[tempy.player != answer]\n",
    "\n",
    "        weekly2 = weekly2[weekly2.player != answer]\n",
    "\n",
    "\n",
    "    #work on WRs\n",
    "    tempy = weekly2[weekly2.position == 'WR']\n",
    "\n",
    "    rank = 150\n",
    "\n",
    "    temp_data = data.loc[data['Position'] == 'WR']\n",
    "\n",
    "    #need to start 2 rbs\n",
    "    for j in range(2):\n",
    "        #print(tempy)\n",
    "        rank = 200\n",
    "        for player_ in tempy.player:\n",
    "            #print(player_)\n",
    "            #print(type(player_))\n",
    "            #inner_temp = tempy.iloc[0,1]\n",
    "            for i in range(len(temp_data.player)):\n",
    "                if player_.lower() in re.sub(r'[^\\w\\s]','',temp_data.iloc[i,1].lower()):\n",
    "                    re.sub(r'[^\\w\\s]','',s)\n",
    "                    #print('This was tr\n",
    "                    if temp_data.iloc[i,0] < rank:\n",
    "                        rank = temp_data.iloc[i,0]\n",
    "                        #print(temp_data.iloc[i,0])\n",
    "                        answer = player_\n",
    "\n",
    "\n",
    "        print(answer)             \n",
    "        pros_points = pros_points + weekly.loc[weekly['player'] == answer].iloc[0,2]\n",
    "\n",
    "        tempy = tempy[tempy.player != answer]\n",
    "\n",
    "        weekly2 = weekly2[weekly2.player != answer]\n",
    "\n",
    "\n",
    "\n",
    "    #get the TE\n",
    "    tempy = weekly2[weekly2.position == 'TE']\n",
    "    rank = 150\n",
    "    temp_data = data.loc[data['Position'] == 'TE']\n",
    "\n",
    "    #need to start 2 rbs\n",
    "    rank = 200\n",
    "    for player_ in tempy.player:\n",
    "        #print(player_)\n",
    "        #print(type(player_))\n",
    "        #inner_temp = tempy.iloc[0,1]\n",
    "        for i in range(len(temp_data.player)):\n",
    "            if player_.lower() in re.sub(r'[^\\w\\s]','',temp_data.iloc[i,1].lower()):\n",
    "                re.sub(r'[^\\w\\s]','',s)\n",
    "                #print('This was true')\n",
    "                #print(temp_data.iloc[i,1].lower())\n",
    "                #print(player_.lower())\n",
    "\n",
    "\n",
    "                if temp_data.iloc[i,0] < rank:\n",
    "                    rank = temp_data.iloc[i,0]\n",
    "                    #print(temp_data.iloc[i,0])\n",
    "                    answer = player_\n",
    "\n",
    "\n",
    "    print(answer)\n",
    "    pros_points = pros_points + weekly.loc[weekly['player'] == answer].iloc[0,2]\n",
    "\n",
    "    tempy = tempy[tempy.player != answer]\n",
    "\n",
    "    weekly2 = weekly2[weekly2.player != answer]\n",
    "\n",
    "\n",
    "\n",
    "    #get the TE\n",
    "\n",
    "    tempy = weekly2[weekly2.position != 'QB']\n",
    "    tempy = tempy[tempy.position != 'D/ST']\n",
    "    temp_data = data\n",
    "\n",
    "\n",
    "    print(tempy)\n",
    "    #need to start 2 rbs\n",
    "    for j in range(2):\n",
    "        rank = 200\n",
    "        for player_ in tempy.player:\n",
    "            #inner_temp = tempy.iloc[0,1]\n",
    "            for i in range(len(temp_data.player)):\n",
    "                if player_.lower() in re.sub(r'[^\\w\\s]','',temp_data.iloc[i,1].lower()):\n",
    "\n",
    "                    if temp_data.iloc[i,0] < rank:\n",
    "                        rank = temp_data.iloc[i,0]\n",
    "                        #print(temp_data.iloc[i,0])\n",
    "                        answer = player_\n",
    "\n",
    "        print(answer)\n",
    "        pros_points = pros_points + weekly.loc[weekly['player'] == answer].iloc[0,2]\n",
    "\n",
    "        tempy = tempy[tempy.player != answer]\n",
    "\n",
    "        weekly2 = weekly2[weekly2.player != answer]\n",
    "\n",
    "    \n",
    "    PRO_POINTS_EVERY_WEEK.append(round(pros_points*100)/100)\n",
    "    \n",
    "    \n",
    "    \n",
    "    \n",
    "    \n",
    "    \n",
    "    \n",
    "weekly_points = pd.DataFrame(np.transpose(np.array([realized_points, poss_points, PRO_POINTS_EVERY_WEEK])), columns=['realized_points', 'poss_points', 'pro_points'])\n",
    "\n",
    "driver.close()\n"
   ]
  },
  {
   "cell_type": "code",
   "execution_count": 202,
   "metadata": {},
   "outputs": [
    {
     "name": "stdout",
     "output_type": "stream",
     "text": [
      "Collecting plotly==4.4.1\n",
      "\u001b[?25l  Downloading https://files.pythonhosted.org/packages/8e/ce/6ea5683c47b682bffad39ad41d10913141b560b1b875a90dbc6abe3f4fa9/plotly-4.4.1-py2.py3-none-any.whl (7.3MB)\n",
      "\u001b[K     |████████████████████████████████| 7.3MB 2.1MB/s eta 0:00:01\n",
      "\u001b[?25hRequirement already satisfied: six in /anaconda3/lib/python3.7/site-packages (from plotly==4.4.1) (1.12.0)\n",
      "Collecting retrying>=1.3.3 (from plotly==4.4.1)\n",
      "  Downloading https://files.pythonhosted.org/packages/44/ef/beae4b4ef80902f22e3af073397f079c96969c69b2c7d52a57ea9ae61c9d/retrying-1.3.3.tar.gz\n",
      "Building wheels for collected packages: retrying\n",
      "  Building wheel for retrying (setup.py) ... \u001b[?25ldone\n",
      "\u001b[?25h  Stored in directory: /Users/neilfarley/Library/Caches/pip/wheels/d7/a9/33/acc7b709e2a35caa7d4cae442f6fe6fbf2c43f80823d46460c\n",
      "Successfully built retrying\n",
      "Installing collected packages: retrying, plotly\n",
      "Successfully installed plotly-4.4.1 retrying-1.3.3\n",
      "Note: you may need to restart the kernel to use updated packages.\n"
     ]
    }
   ],
   "source": []
  },
  {
   "cell_type": "code",
   "execution_count": 136,
   "metadata": {},
   "outputs": [
    {
     "name": "stdout",
     "output_type": "stream",
     "text": [
      "Average percent of possible points left on table weekly: 9.13 %\n",
      "Most points left on table in a single week: 37.58\n",
      "Least points left on table in a single week: 0.0\n",
      "Average amount of points left on the table: 12.49\n"
     ]
    },
    {
     "data": {
      "application/vnd.plotly.v1+json": {
       "config": {
        "plotlyServerURL": "https://plot.ly"
       },
       "data": [
        {
         "name": "Realized Point Total",
         "type": "bar",
         "x": [
          1,
          2,
          3,
          4,
          5,
          6,
          7,
          8,
          9,
          10,
          11,
          12,
          13
         ],
         "y": [
          139.12,
          133.36,
          121.34,
          65.1,
          190.24,
          133.5,
          130.32,
          169.56,
          130.64,
          124.68,
          97.06,
          128.32,
          134.68
         ]
        },
        {
         "name": "Max Possible Point Total",
         "type": "bar",
         "x": [
          1,
          2,
          3,
          4,
          5,
          6,
          7,
          8,
          9,
          10,
          11,
          12,
          13
         ],
         "y": [
          9.199999999999989,
          1.8999999999999773,
          23.099999999999994,
          16.60000000000001,
          11.199999999999989,
          3,
          4.700000000000017,
          1.6999999999999886,
          18.600000000000023,
          0,
          32.80000000000001,
          2,
          37.579999999999984
         ]
        }
       ],
       "layout": {
        "barmode": "stack",
        "font": {
         "color": "#7f7f7f",
         "family": "Courier New, monospace",
         "size": 18
        },
        "template": {
         "data": {
          "bar": [
           {
            "error_x": {
             "color": "#2a3f5f"
            },
            "error_y": {
             "color": "#2a3f5f"
            },
            "marker": {
             "line": {
              "color": "#E5ECF6",
              "width": 0.5
             }
            },
            "type": "bar"
           }
          ],
          "barpolar": [
           {
            "marker": {
             "line": {
              "color": "#E5ECF6",
              "width": 0.5
             }
            },
            "type": "barpolar"
           }
          ],
          "carpet": [
           {
            "aaxis": {
             "endlinecolor": "#2a3f5f",
             "gridcolor": "white",
             "linecolor": "white",
             "minorgridcolor": "white",
             "startlinecolor": "#2a3f5f"
            },
            "baxis": {
             "endlinecolor": "#2a3f5f",
             "gridcolor": "white",
             "linecolor": "white",
             "minorgridcolor": "white",
             "startlinecolor": "#2a3f5f"
            },
            "type": "carpet"
           }
          ],
          "choropleth": [
           {
            "colorbar": {
             "outlinewidth": 0,
             "ticks": ""
            },
            "type": "choropleth"
           }
          ],
          "contour": [
           {
            "colorbar": {
             "outlinewidth": 0,
             "ticks": ""
            },
            "colorscale": [
             [
              0,
              "#0d0887"
             ],
             [
              0.1111111111111111,
              "#46039f"
             ],
             [
              0.2222222222222222,
              "#7201a8"
             ],
             [
              0.3333333333333333,
              "#9c179e"
             ],
             [
              0.4444444444444444,
              "#bd3786"
             ],
             [
              0.5555555555555556,
              "#d8576b"
             ],
             [
              0.6666666666666666,
              "#ed7953"
             ],
             [
              0.7777777777777778,
              "#fb9f3a"
             ],
             [
              0.8888888888888888,
              "#fdca26"
             ],
             [
              1,
              "#f0f921"
             ]
            ],
            "type": "contour"
           }
          ],
          "contourcarpet": [
           {
            "colorbar": {
             "outlinewidth": 0,
             "ticks": ""
            },
            "type": "contourcarpet"
           }
          ],
          "heatmap": [
           {
            "colorbar": {
             "outlinewidth": 0,
             "ticks": ""
            },
            "colorscale": [
             [
              0,
              "#0d0887"
             ],
             [
              0.1111111111111111,
              "#46039f"
             ],
             [
              0.2222222222222222,
              "#7201a8"
             ],
             [
              0.3333333333333333,
              "#9c179e"
             ],
             [
              0.4444444444444444,
              "#bd3786"
             ],
             [
              0.5555555555555556,
              "#d8576b"
             ],
             [
              0.6666666666666666,
              "#ed7953"
             ],
             [
              0.7777777777777778,
              "#fb9f3a"
             ],
             [
              0.8888888888888888,
              "#fdca26"
             ],
             [
              1,
              "#f0f921"
             ]
            ],
            "type": "heatmap"
           }
          ],
          "heatmapgl": [
           {
            "colorbar": {
             "outlinewidth": 0,
             "ticks": ""
            },
            "colorscale": [
             [
              0,
              "#0d0887"
             ],
             [
              0.1111111111111111,
              "#46039f"
             ],
             [
              0.2222222222222222,
              "#7201a8"
             ],
             [
              0.3333333333333333,
              "#9c179e"
             ],
             [
              0.4444444444444444,
              "#bd3786"
             ],
             [
              0.5555555555555556,
              "#d8576b"
             ],
             [
              0.6666666666666666,
              "#ed7953"
             ],
             [
              0.7777777777777778,
              "#fb9f3a"
             ],
             [
              0.8888888888888888,
              "#fdca26"
             ],
             [
              1,
              "#f0f921"
             ]
            ],
            "type": "heatmapgl"
           }
          ],
          "histogram": [
           {
            "marker": {
             "colorbar": {
              "outlinewidth": 0,
              "ticks": ""
             }
            },
            "type": "histogram"
           }
          ],
          "histogram2d": [
           {
            "colorbar": {
             "outlinewidth": 0,
             "ticks": ""
            },
            "colorscale": [
             [
              0,
              "#0d0887"
             ],
             [
              0.1111111111111111,
              "#46039f"
             ],
             [
              0.2222222222222222,
              "#7201a8"
             ],
             [
              0.3333333333333333,
              "#9c179e"
             ],
             [
              0.4444444444444444,
              "#bd3786"
             ],
             [
              0.5555555555555556,
              "#d8576b"
             ],
             [
              0.6666666666666666,
              "#ed7953"
             ],
             [
              0.7777777777777778,
              "#fb9f3a"
             ],
             [
              0.8888888888888888,
              "#fdca26"
             ],
             [
              1,
              "#f0f921"
             ]
            ],
            "type": "histogram2d"
           }
          ],
          "histogram2dcontour": [
           {
            "colorbar": {
             "outlinewidth": 0,
             "ticks": ""
            },
            "colorscale": [
             [
              0,
              "#0d0887"
             ],
             [
              0.1111111111111111,
              "#46039f"
             ],
             [
              0.2222222222222222,
              "#7201a8"
             ],
             [
              0.3333333333333333,
              "#9c179e"
             ],
             [
              0.4444444444444444,
              "#bd3786"
             ],
             [
              0.5555555555555556,
              "#d8576b"
             ],
             [
              0.6666666666666666,
              "#ed7953"
             ],
             [
              0.7777777777777778,
              "#fb9f3a"
             ],
             [
              0.8888888888888888,
              "#fdca26"
             ],
             [
              1,
              "#f0f921"
             ]
            ],
            "type": "histogram2dcontour"
           }
          ],
          "mesh3d": [
           {
            "colorbar": {
             "outlinewidth": 0,
             "ticks": ""
            },
            "type": "mesh3d"
           }
          ],
          "parcoords": [
           {
            "line": {
             "colorbar": {
              "outlinewidth": 0,
              "ticks": ""
             }
            },
            "type": "parcoords"
           }
          ],
          "pie": [
           {
            "automargin": true,
            "type": "pie"
           }
          ],
          "scatter": [
           {
            "marker": {
             "colorbar": {
              "outlinewidth": 0,
              "ticks": ""
             }
            },
            "type": "scatter"
           }
          ],
          "scatter3d": [
           {
            "line": {
             "colorbar": {
              "outlinewidth": 0,
              "ticks": ""
             }
            },
            "marker": {
             "colorbar": {
              "outlinewidth": 0,
              "ticks": ""
             }
            },
            "type": "scatter3d"
           }
          ],
          "scattercarpet": [
           {
            "marker": {
             "colorbar": {
              "outlinewidth": 0,
              "ticks": ""
             }
            },
            "type": "scattercarpet"
           }
          ],
          "scattergeo": [
           {
            "marker": {
             "colorbar": {
              "outlinewidth": 0,
              "ticks": ""
             }
            },
            "type": "scattergeo"
           }
          ],
          "scattergl": [
           {
            "marker": {
             "colorbar": {
              "outlinewidth": 0,
              "ticks": ""
             }
            },
            "type": "scattergl"
           }
          ],
          "scattermapbox": [
           {
            "marker": {
             "colorbar": {
              "outlinewidth": 0,
              "ticks": ""
             }
            },
            "type": "scattermapbox"
           }
          ],
          "scatterpolar": [
           {
            "marker": {
             "colorbar": {
              "outlinewidth": 0,
              "ticks": ""
             }
            },
            "type": "scatterpolar"
           }
          ],
          "scatterpolargl": [
           {
            "marker": {
             "colorbar": {
              "outlinewidth": 0,
              "ticks": ""
             }
            },
            "type": "scatterpolargl"
           }
          ],
          "scatterternary": [
           {
            "marker": {
             "colorbar": {
              "outlinewidth": 0,
              "ticks": ""
             }
            },
            "type": "scatterternary"
           }
          ],
          "surface": [
           {
            "colorbar": {
             "outlinewidth": 0,
             "ticks": ""
            },
            "colorscale": [
             [
              0,
              "#0d0887"
             ],
             [
              0.1111111111111111,
              "#46039f"
             ],
             [
              0.2222222222222222,
              "#7201a8"
             ],
             [
              0.3333333333333333,
              "#9c179e"
             ],
             [
              0.4444444444444444,
              "#bd3786"
             ],
             [
              0.5555555555555556,
              "#d8576b"
             ],
             [
              0.6666666666666666,
              "#ed7953"
             ],
             [
              0.7777777777777778,
              "#fb9f3a"
             ],
             [
              0.8888888888888888,
              "#fdca26"
             ],
             [
              1,
              "#f0f921"
             ]
            ],
            "type": "surface"
           }
          ],
          "table": [
           {
            "cells": {
             "fill": {
              "color": "#EBF0F8"
             },
             "line": {
              "color": "white"
             }
            },
            "header": {
             "fill": {
              "color": "#C8D4E3"
             },
             "line": {
              "color": "white"
             }
            },
            "type": "table"
           }
          ]
         },
         "layout": {
          "annotationdefaults": {
           "arrowcolor": "#2a3f5f",
           "arrowhead": 0,
           "arrowwidth": 1
          },
          "coloraxis": {
           "colorbar": {
            "outlinewidth": 0,
            "ticks": ""
           }
          },
          "colorscale": {
           "diverging": [
            [
             0,
             "#8e0152"
            ],
            [
             0.1,
             "#c51b7d"
            ],
            [
             0.2,
             "#de77ae"
            ],
            [
             0.3,
             "#f1b6da"
            ],
            [
             0.4,
             "#fde0ef"
            ],
            [
             0.5,
             "#f7f7f7"
            ],
            [
             0.6,
             "#e6f5d0"
            ],
            [
             0.7,
             "#b8e186"
            ],
            [
             0.8,
             "#7fbc41"
            ],
            [
             0.9,
             "#4d9221"
            ],
            [
             1,
             "#276419"
            ]
           ],
           "sequential": [
            [
             0,
             "#0d0887"
            ],
            [
             0.1111111111111111,
             "#46039f"
            ],
            [
             0.2222222222222222,
             "#7201a8"
            ],
            [
             0.3333333333333333,
             "#9c179e"
            ],
            [
             0.4444444444444444,
             "#bd3786"
            ],
            [
             0.5555555555555556,
             "#d8576b"
            ],
            [
             0.6666666666666666,
             "#ed7953"
            ],
            [
             0.7777777777777778,
             "#fb9f3a"
            ],
            [
             0.8888888888888888,
             "#fdca26"
            ],
            [
             1,
             "#f0f921"
            ]
           ],
           "sequentialminus": [
            [
             0,
             "#0d0887"
            ],
            [
             0.1111111111111111,
             "#46039f"
            ],
            [
             0.2222222222222222,
             "#7201a8"
            ],
            [
             0.3333333333333333,
             "#9c179e"
            ],
            [
             0.4444444444444444,
             "#bd3786"
            ],
            [
             0.5555555555555556,
             "#d8576b"
            ],
            [
             0.6666666666666666,
             "#ed7953"
            ],
            [
             0.7777777777777778,
             "#fb9f3a"
            ],
            [
             0.8888888888888888,
             "#fdca26"
            ],
            [
             1,
             "#f0f921"
            ]
           ]
          },
          "colorway": [
           "#636efa",
           "#EF553B",
           "#00cc96",
           "#ab63fa",
           "#FFA15A",
           "#19d3f3",
           "#FF6692",
           "#B6E880",
           "#FF97FF",
           "#FECB52"
          ],
          "font": {
           "color": "#2a3f5f"
          },
          "geo": {
           "bgcolor": "white",
           "lakecolor": "white",
           "landcolor": "#E5ECF6",
           "showlakes": true,
           "showland": true,
           "subunitcolor": "white"
          },
          "hoverlabel": {
           "align": "left"
          },
          "hovermode": "closest",
          "mapbox": {
           "style": "light"
          },
          "paper_bgcolor": "white",
          "plot_bgcolor": "#E5ECF6",
          "polar": {
           "angularaxis": {
            "gridcolor": "white",
            "linecolor": "white",
            "ticks": ""
           },
           "bgcolor": "#E5ECF6",
           "radialaxis": {
            "gridcolor": "white",
            "linecolor": "white",
            "ticks": ""
           }
          },
          "scene": {
           "xaxis": {
            "backgroundcolor": "#E5ECF6",
            "gridcolor": "white",
            "gridwidth": 2,
            "linecolor": "white",
            "showbackground": true,
            "ticks": "",
            "zerolinecolor": "white"
           },
           "yaxis": {
            "backgroundcolor": "#E5ECF6",
            "gridcolor": "white",
            "gridwidth": 2,
            "linecolor": "white",
            "showbackground": true,
            "ticks": "",
            "zerolinecolor": "white"
           },
           "zaxis": {
            "backgroundcolor": "#E5ECF6",
            "gridcolor": "white",
            "gridwidth": 2,
            "linecolor": "white",
            "showbackground": true,
            "ticks": "",
            "zerolinecolor": "white"
           }
          },
          "shapedefaults": {
           "line": {
            "color": "#2a3f5f"
           }
          },
          "ternary": {
           "aaxis": {
            "gridcolor": "white",
            "linecolor": "white",
            "ticks": ""
           },
           "baxis": {
            "gridcolor": "white",
            "linecolor": "white",
            "ticks": ""
           },
           "bgcolor": "#E5ECF6",
           "caxis": {
            "gridcolor": "white",
            "linecolor": "white",
            "ticks": ""
           }
          },
          "title": {
           "x": 0.05
          },
          "xaxis": {
           "automargin": true,
           "gridcolor": "white",
           "linecolor": "white",
           "ticks": "",
           "title": {
            "standoff": 15
           },
           "zerolinecolor": "white",
           "zerolinewidth": 2
          },
          "yaxis": {
           "automargin": true,
           "gridcolor": "white",
           "linecolor": "white",
           "ticks": "",
           "title": {
            "standoff": 15
           },
           "zerolinecolor": "white",
           "zerolinewidth": 2
          }
         }
        },
        "title": {
         "text": "Possible Points Each Week vs Realization"
        },
        "xaxis": {
         "dtick": 1,
         "tick0": 0,
         "tickmode": "linear",
         "title": {
          "text": "Week"
         }
        },
        "yaxis": {
         "title": {
          "text": "Points"
         }
        }
       }
      },
      "text/html": [
       "<div>\n",
       "        \n",
       "        \n",
       "            <div id=\"3b453aab-5aae-4aaa-8dce-4ccc58d665f5\" class=\"plotly-graph-div\" style=\"height:525px; width:100%;\"></div>\n",
       "            <script type=\"text/javascript\">\n",
       "                require([\"plotly\"], function(Plotly) {\n",
       "                    window.PLOTLYENV=window.PLOTLYENV || {};\n",
       "                    \n",
       "                if (document.getElementById(\"3b453aab-5aae-4aaa-8dce-4ccc58d665f5\")) {\n",
       "                    Plotly.newPlot(\n",
       "                        '3b453aab-5aae-4aaa-8dce-4ccc58d665f5',\n",
       "                        [{\"name\": \"Realized Point Total\", \"type\": \"bar\", \"x\": [1, 2, 3, 4, 5, 6, 7, 8, 9, 10, 11, 12, 13], \"y\": [139.12, 133.36, 121.34, 65.1, 190.24, 133.5, 130.32, 169.56, 130.64, 124.68, 97.06, 128.32, 134.68]}, {\"name\": \"Max Possible Point Total\", \"type\": \"bar\", \"x\": [1, 2, 3, 4, 5, 6, 7, 8, 9, 10, 11, 12, 13], \"y\": [9.199999999999989, 1.8999999999999773, 23.099999999999994, 16.60000000000001, 11.199999999999989, 3.0, 4.700000000000017, 1.6999999999999886, 18.600000000000023, 0.0, 32.80000000000001, 2.0, 37.579999999999984]}],\n",
       "                        {\"barmode\": \"stack\", \"font\": {\"color\": \"#7f7f7f\", \"family\": \"Courier New, monospace\", \"size\": 18}, \"template\": {\"data\": {\"bar\": [{\"error_x\": {\"color\": \"#2a3f5f\"}, \"error_y\": {\"color\": \"#2a3f5f\"}, \"marker\": {\"line\": {\"color\": \"#E5ECF6\", \"width\": 0.5}}, \"type\": \"bar\"}], \"barpolar\": [{\"marker\": {\"line\": {\"color\": \"#E5ECF6\", \"width\": 0.5}}, \"type\": \"barpolar\"}], \"carpet\": [{\"aaxis\": {\"endlinecolor\": \"#2a3f5f\", \"gridcolor\": \"white\", \"linecolor\": \"white\", \"minorgridcolor\": \"white\", \"startlinecolor\": \"#2a3f5f\"}, \"baxis\": {\"endlinecolor\": \"#2a3f5f\", \"gridcolor\": \"white\", \"linecolor\": \"white\", \"minorgridcolor\": \"white\", \"startlinecolor\": \"#2a3f5f\"}, \"type\": \"carpet\"}], \"choropleth\": [{\"colorbar\": {\"outlinewidth\": 0, \"ticks\": \"\"}, \"type\": \"choropleth\"}], \"contour\": [{\"colorbar\": {\"outlinewidth\": 0, \"ticks\": \"\"}, \"colorscale\": [[0.0, \"#0d0887\"], [0.1111111111111111, \"#46039f\"], [0.2222222222222222, \"#7201a8\"], [0.3333333333333333, \"#9c179e\"], [0.4444444444444444, \"#bd3786\"], [0.5555555555555556, \"#d8576b\"], [0.6666666666666666, \"#ed7953\"], [0.7777777777777778, \"#fb9f3a\"], [0.8888888888888888, \"#fdca26\"], [1.0, \"#f0f921\"]], \"type\": \"contour\"}], \"contourcarpet\": [{\"colorbar\": {\"outlinewidth\": 0, \"ticks\": \"\"}, \"type\": \"contourcarpet\"}], \"heatmap\": [{\"colorbar\": {\"outlinewidth\": 0, \"ticks\": \"\"}, \"colorscale\": [[0.0, \"#0d0887\"], [0.1111111111111111, \"#46039f\"], [0.2222222222222222, \"#7201a8\"], [0.3333333333333333, \"#9c179e\"], [0.4444444444444444, \"#bd3786\"], [0.5555555555555556, \"#d8576b\"], [0.6666666666666666, \"#ed7953\"], [0.7777777777777778, \"#fb9f3a\"], [0.8888888888888888, \"#fdca26\"], [1.0, \"#f0f921\"]], \"type\": \"heatmap\"}], \"heatmapgl\": [{\"colorbar\": {\"outlinewidth\": 0, \"ticks\": \"\"}, \"colorscale\": [[0.0, \"#0d0887\"], [0.1111111111111111, \"#46039f\"], [0.2222222222222222, \"#7201a8\"], [0.3333333333333333, \"#9c179e\"], [0.4444444444444444, \"#bd3786\"], [0.5555555555555556, \"#d8576b\"], [0.6666666666666666, \"#ed7953\"], [0.7777777777777778, \"#fb9f3a\"], [0.8888888888888888, \"#fdca26\"], [1.0, \"#f0f921\"]], \"type\": \"heatmapgl\"}], \"histogram\": [{\"marker\": {\"colorbar\": {\"outlinewidth\": 0, \"ticks\": \"\"}}, \"type\": \"histogram\"}], \"histogram2d\": [{\"colorbar\": {\"outlinewidth\": 0, \"ticks\": \"\"}, \"colorscale\": [[0.0, \"#0d0887\"], [0.1111111111111111, \"#46039f\"], [0.2222222222222222, \"#7201a8\"], [0.3333333333333333, \"#9c179e\"], [0.4444444444444444, \"#bd3786\"], [0.5555555555555556, \"#d8576b\"], [0.6666666666666666, \"#ed7953\"], [0.7777777777777778, \"#fb9f3a\"], [0.8888888888888888, \"#fdca26\"], [1.0, \"#f0f921\"]], \"type\": \"histogram2d\"}], \"histogram2dcontour\": [{\"colorbar\": {\"outlinewidth\": 0, \"ticks\": \"\"}, \"colorscale\": [[0.0, \"#0d0887\"], [0.1111111111111111, \"#46039f\"], [0.2222222222222222, \"#7201a8\"], [0.3333333333333333, \"#9c179e\"], [0.4444444444444444, \"#bd3786\"], [0.5555555555555556, \"#d8576b\"], [0.6666666666666666, \"#ed7953\"], [0.7777777777777778, \"#fb9f3a\"], [0.8888888888888888, \"#fdca26\"], [1.0, \"#f0f921\"]], \"type\": \"histogram2dcontour\"}], \"mesh3d\": [{\"colorbar\": {\"outlinewidth\": 0, \"ticks\": \"\"}, \"type\": \"mesh3d\"}], \"parcoords\": [{\"line\": {\"colorbar\": {\"outlinewidth\": 0, \"ticks\": \"\"}}, \"type\": \"parcoords\"}], \"pie\": [{\"automargin\": true, \"type\": \"pie\"}], \"scatter\": [{\"marker\": {\"colorbar\": {\"outlinewidth\": 0, \"ticks\": \"\"}}, \"type\": \"scatter\"}], \"scatter3d\": [{\"line\": {\"colorbar\": {\"outlinewidth\": 0, \"ticks\": \"\"}}, \"marker\": {\"colorbar\": {\"outlinewidth\": 0, \"ticks\": \"\"}}, \"type\": \"scatter3d\"}], \"scattercarpet\": [{\"marker\": {\"colorbar\": {\"outlinewidth\": 0, \"ticks\": \"\"}}, \"type\": \"scattercarpet\"}], \"scattergeo\": [{\"marker\": {\"colorbar\": {\"outlinewidth\": 0, \"ticks\": \"\"}}, \"type\": \"scattergeo\"}], \"scattergl\": [{\"marker\": {\"colorbar\": {\"outlinewidth\": 0, \"ticks\": \"\"}}, \"type\": \"scattergl\"}], \"scattermapbox\": [{\"marker\": {\"colorbar\": {\"outlinewidth\": 0, \"ticks\": \"\"}}, \"type\": \"scattermapbox\"}], \"scatterpolar\": [{\"marker\": {\"colorbar\": {\"outlinewidth\": 0, \"ticks\": \"\"}}, \"type\": \"scatterpolar\"}], \"scatterpolargl\": [{\"marker\": {\"colorbar\": {\"outlinewidth\": 0, \"ticks\": \"\"}}, \"type\": \"scatterpolargl\"}], \"scatterternary\": [{\"marker\": {\"colorbar\": {\"outlinewidth\": 0, \"ticks\": \"\"}}, \"type\": \"scatterternary\"}], \"surface\": [{\"colorbar\": {\"outlinewidth\": 0, \"ticks\": \"\"}, \"colorscale\": [[0.0, \"#0d0887\"], [0.1111111111111111, \"#46039f\"], [0.2222222222222222, \"#7201a8\"], [0.3333333333333333, \"#9c179e\"], [0.4444444444444444, \"#bd3786\"], [0.5555555555555556, \"#d8576b\"], [0.6666666666666666, \"#ed7953\"], [0.7777777777777778, \"#fb9f3a\"], [0.8888888888888888, \"#fdca26\"], [1.0, \"#f0f921\"]], \"type\": \"surface\"}], \"table\": [{\"cells\": {\"fill\": {\"color\": \"#EBF0F8\"}, \"line\": {\"color\": \"white\"}}, \"header\": {\"fill\": {\"color\": \"#C8D4E3\"}, \"line\": {\"color\": \"white\"}}, \"type\": \"table\"}]}, \"layout\": {\"annotationdefaults\": {\"arrowcolor\": \"#2a3f5f\", \"arrowhead\": 0, \"arrowwidth\": 1}, \"coloraxis\": {\"colorbar\": {\"outlinewidth\": 0, \"ticks\": \"\"}}, \"colorscale\": {\"diverging\": [[0, \"#8e0152\"], [0.1, \"#c51b7d\"], [0.2, \"#de77ae\"], [0.3, \"#f1b6da\"], [0.4, \"#fde0ef\"], [0.5, \"#f7f7f7\"], [0.6, \"#e6f5d0\"], [0.7, \"#b8e186\"], [0.8, \"#7fbc41\"], [0.9, \"#4d9221\"], [1, \"#276419\"]], \"sequential\": [[0.0, \"#0d0887\"], [0.1111111111111111, \"#46039f\"], [0.2222222222222222, \"#7201a8\"], [0.3333333333333333, \"#9c179e\"], [0.4444444444444444, \"#bd3786\"], [0.5555555555555556, \"#d8576b\"], [0.6666666666666666, \"#ed7953\"], [0.7777777777777778, \"#fb9f3a\"], [0.8888888888888888, \"#fdca26\"], [1.0, \"#f0f921\"]], \"sequentialminus\": [[0.0, \"#0d0887\"], [0.1111111111111111, \"#46039f\"], [0.2222222222222222, \"#7201a8\"], [0.3333333333333333, \"#9c179e\"], [0.4444444444444444, \"#bd3786\"], [0.5555555555555556, \"#d8576b\"], [0.6666666666666666, \"#ed7953\"], [0.7777777777777778, \"#fb9f3a\"], [0.8888888888888888, \"#fdca26\"], [1.0, \"#f0f921\"]]}, \"colorway\": [\"#636efa\", \"#EF553B\", \"#00cc96\", \"#ab63fa\", \"#FFA15A\", \"#19d3f3\", \"#FF6692\", \"#B6E880\", \"#FF97FF\", \"#FECB52\"], \"font\": {\"color\": \"#2a3f5f\"}, \"geo\": {\"bgcolor\": \"white\", \"lakecolor\": \"white\", \"landcolor\": \"#E5ECF6\", \"showlakes\": true, \"showland\": true, \"subunitcolor\": \"white\"}, \"hoverlabel\": {\"align\": \"left\"}, \"hovermode\": \"closest\", \"mapbox\": {\"style\": \"light\"}, \"paper_bgcolor\": \"white\", \"plot_bgcolor\": \"#E5ECF6\", \"polar\": {\"angularaxis\": {\"gridcolor\": \"white\", \"linecolor\": \"white\", \"ticks\": \"\"}, \"bgcolor\": \"#E5ECF6\", \"radialaxis\": {\"gridcolor\": \"white\", \"linecolor\": \"white\", \"ticks\": \"\"}}, \"scene\": {\"xaxis\": {\"backgroundcolor\": \"#E5ECF6\", \"gridcolor\": \"white\", \"gridwidth\": 2, \"linecolor\": \"white\", \"showbackground\": true, \"ticks\": \"\", \"zerolinecolor\": \"white\"}, \"yaxis\": {\"backgroundcolor\": \"#E5ECF6\", \"gridcolor\": \"white\", \"gridwidth\": 2, \"linecolor\": \"white\", \"showbackground\": true, \"ticks\": \"\", \"zerolinecolor\": \"white\"}, \"zaxis\": {\"backgroundcolor\": \"#E5ECF6\", \"gridcolor\": \"white\", \"gridwidth\": 2, \"linecolor\": \"white\", \"showbackground\": true, \"ticks\": \"\", \"zerolinecolor\": \"white\"}}, \"shapedefaults\": {\"line\": {\"color\": \"#2a3f5f\"}}, \"ternary\": {\"aaxis\": {\"gridcolor\": \"white\", \"linecolor\": \"white\", \"ticks\": \"\"}, \"baxis\": {\"gridcolor\": \"white\", \"linecolor\": \"white\", \"ticks\": \"\"}, \"bgcolor\": \"#E5ECF6\", \"caxis\": {\"gridcolor\": \"white\", \"linecolor\": \"white\", \"ticks\": \"\"}}, \"title\": {\"x\": 0.05}, \"xaxis\": {\"automargin\": true, \"gridcolor\": \"white\", \"linecolor\": \"white\", \"ticks\": \"\", \"title\": {\"standoff\": 15}, \"zerolinecolor\": \"white\", \"zerolinewidth\": 2}, \"yaxis\": {\"automargin\": true, \"gridcolor\": \"white\", \"linecolor\": \"white\", \"ticks\": \"\", \"title\": {\"standoff\": 15}, \"zerolinecolor\": \"white\", \"zerolinewidth\": 2}}}, \"title\": {\"text\": \"Possible Points Each Week vs Realization\"}, \"xaxis\": {\"dtick\": 1, \"tick0\": 0, \"tickmode\": \"linear\", \"title\": {\"text\": \"Week\"}}, \"yaxis\": {\"title\": {\"text\": \"Points\"}}},\n",
       "                        {\"responsive\": true}\n",
       "                    ).then(function(){\n",
       "                            \n",
       "var gd = document.getElementById('3b453aab-5aae-4aaa-8dce-4ccc58d665f5');\n",
       "var x = new MutationObserver(function (mutations, observer) {{\n",
       "        var display = window.getComputedStyle(gd).display;\n",
       "        if (!display || display === 'none') {{\n",
       "            console.log([gd, 'removed!']);\n",
       "            Plotly.purge(gd);\n",
       "            observer.disconnect();\n",
       "        }}\n",
       "}});\n",
       "\n",
       "// Listen for the removal of the full notebook cells\n",
       "var notebookContainer = gd.closest('#notebook-container');\n",
       "if (notebookContainer) {{\n",
       "    x.observe(notebookContainer, {childList: true});\n",
       "}}\n",
       "\n",
       "// Listen for the clearing of the current output cell\n",
       "var outputEl = gd.closest('.output');\n",
       "if (outputEl) {{\n",
       "    x.observe(outputEl, {childList: true});\n",
       "}}\n",
       "\n",
       "                        })\n",
       "                };\n",
       "                });\n",
       "            </script>\n",
       "        </div>"
      ]
     },
     "metadata": {},
     "output_type": "display_data"
    }
   ],
   "source": [
    "import plotly.graph_objects as go\n",
    "weeks = []\n",
    "for i in range(1,14):\n",
    "    weeks.append(i)\n",
    "\n",
    "    \n",
    "points_left = weekly_points.poss_points-weekly_points.realized_points\n",
    "fig = go.Figure(data=[\n",
    "    go.Bar(name='Realized Point Total', x=weeks, y= weekly_points.realized_points),\n",
    "    go.Bar(name='Max Possible Point Total', x=weeks, y= points_left)\n",
    "])\n",
    "# Change the bar mode\n",
    "fig.update_layout(barmode='stack')\n",
    "\n",
    "print('Average percent of possible points left on table weekly:', round(sum(weekly_points.realized_points)/sum(weekly_points.poss_points)*1000)/100, \"%\")\n",
    "print('Most points left on table in a single week:', round(max(points_left)*100)/100)\n",
    "print('Least points left on table in a single week:', round(min(points_left)*100)/100)\n",
    "print('Average amount of points left on the table:', round(sum(points_left)*100/len(points_left))/100)\n",
    "\n",
    "fig.update_layout(\n",
    "    title=\"Possible Points Each Week vs Realization\",\n",
    "    xaxis_title=\"Week\",\n",
    "    yaxis_title=\"Points\",\n",
    "    font=dict(\n",
    "        family=\"Courier New, monospace\",\n",
    "        size=18,\n",
    "        color=\"#7f7f7f\"\n",
    "    )\n",
    ")\n",
    "\n",
    "fig.update_layout(\n",
    "    xaxis = dict(\n",
    "        tickmode = 'linear',\n",
    "        tick0 = 0,\n",
    "        dtick = 1\n",
    "    )\n",
    ")\n",
    "\n",
    "fig.show()\n",
    "\n",
    "\n",
    "\n",
    "\n",
    "\n",
    "\n"
   ]
  },
  {
   "cell_type": "code",
   "execution_count": 137,
   "metadata": {},
   "outputs": [
    {
     "data": {
      "text/plain": [
       "0      9.20\n",
       "1      1.90\n",
       "2     23.10\n",
       "3     16.60\n",
       "4     11.20\n",
       "5      3.00\n",
       "6      4.70\n",
       "7      1.70\n",
       "8     18.60\n",
       "9      0.00\n",
       "10    32.80\n",
       "11     2.00\n",
       "12    37.58\n",
       "dtype: float64"
      ]
     },
     "execution_count": 137,
     "metadata": {},
     "output_type": "execute_result"
    }
   ],
   "source": [
    "points_left"
   ]
  },
  {
   "cell_type": "code",
   "execution_count": 223,
   "metadata": {},
   "outputs": [
    {
     "data": {
      "image/png": "[encoded data removed]",
      "text/plain": [
       "<Figure size 432x288 with 1 Axes>"
      ]
     },
     "metadata": {
      "needs_background": "light"
     },
     "output_type": "display_data"
    }
   ],
   "source": [
    "import matplotlib.pyplot as plt\n",
    "\n",
    "plt.hist(weekly_points.realized_points/weekly_points.poss_points, bins='auto')  # arguments are passed to np.histogram\n",
    "#plt.title(\"Histogram with 'auto' bins\")\n",
    "plt.xlim([0, 1])\n",
    "\n",
    "plt.xlabel('Percent of Possible Points Realized')\n",
    "plt.ylabel('Count of Weeks')\n",
    "\n",
    "plt.show()\n",
    "\n",
    "\n",
    "\n"
   ]
  },
  {
   "cell_type": "code",
   "execution_count": null,
   "metadata": {},
   "outputs": [],
   "source": []
  },
  {
   "cell_type": "code",
   "execution_count": 191,
   "metadata": {},
   "outputs": [
    {
     "name": "stdout",
     "output_type": "stream",
     "text": [
      "148.32\n",
      "139.12\n"
     ]
    }
   ],
   "source": [
    "\n",
    "\n",
    "num_starters = 9 \n",
    "num_bench = 7 \n",
    "\n",
    "weekly = pd.DataFrame()\n",
    "player = []\n",
    "position = []\n",
    "points = []\n",
    "for i in range(num_starters):\n",
    "    first_xpath = '//*[@id=\"espn-analytics\"]/div/div[5]/div[2]/div[2]/div/div/div/div[3]/div/div/section/table/tbody/tr/td/div/div/div[2]/table/tbody/tr/td/div/table/tbody/tr['+str(i+1)+']/td[2]/div/div/div[2]/div/div[2]/span[2]'\n",
    "    second_xpath = '//*[@id=\"espn-analytics\"]/div/div[5]/div[2]/div[2]/div/div/div/div[3]/div/div/section/table/tbody/tr/td/div/div/div[2]/table/tbody/tr/td/div/table/tbody/tr['+str(i+1)+']/td[2]/div/div/div[2]/div/div[1]/span[1]/a'\n",
    "    third_xpath = '//*[@id=\"espn-analytics\"]/div/div[5]/div[2]/div[2]/div/div/div/div[3]/div/div/section/table/tbody/tr/td/div/div/div[2]/table/tbody/tr/td/div/table/tbody/tr['+str(i+1)+']/td[7]/div/span'\n",
    "    position.append(driver.find_element_by_xpath(first_xpath).text)\n",
    "    player.append(driver.find_element_by_xpath(second_xpath).text)\n",
    "    points.append(driver.find_element_by_xpath(third_xpath).text)\n",
    "\n",
    "\n",
    "for i in range(num_bench):\n",
    "    first_xpath = '//*[@id=\"espn-analytics\"]/div/div[5]/div[2]/div[2]/div/div/div/div[3]/div/div/section/table/tbody/tr/td/div/div/div[2]/table/tbody/tr/td/div/table/tbody/tr['+str(i+2+num_starters)+']/td[2]/div/div/div[2]/div/div[2]/span[2]'\n",
    "    second_xpath = '//*[@id=\"espn-analytics\"]/div/div[5]/div[2]/div[2]/div/div/div/div[3]/div/div/section/table/tbody/tr/td/div/div/div[2]/table/tbody/tr/td/div/table/tbody/tr['+str(i+2+num_starters)+']/td[2]/div/div/div[2]/div/div[1]/span[1]/a'\n",
    "    third_xpath = '//*[@id=\"espn-analytics\"]/div/div[5]/div[2]/div[2]/div/div/div/div[3]/div/div/section/table/tbody/tr/td/div/div/div[2]/table/tbody/tr/td/div/table/tbody/tr['+str(i+2+num_starters)+']/td[7]/div/span'\n",
    "    position.append(driver.find_element_by_xpath(first_xpath).text)\n",
    "    player.append(driver.find_element_by_xpath(second_xpath).text)\n",
    "    points.append(driver.find_element_by_xpath(third_xpath).text)\n",
    "\n",
    "weekly = pd.DataFrame(np.transpose(np.array([position, player, points])), columns=['position', 'player', 'points'])\n",
    "    \n",
    "weekly\n",
    "weekly['points'] = pd.to_numeric(weekly.iloc[:,2])\n",
    "\n",
    "#find weekly highest possible points\n",
    "total_score = 0\n",
    "total_score = total_score + max(weekly[weekly['position'] == 'QB'].iloc[:,2])\n",
    "total_score = total_score + max(weekly[weekly['position'] == 'TE'].iloc[:,2])\n",
    "total_score = total_score + max(weekly[weekly['position'] == 'D/ST'].iloc[:,2])\n",
    "total_score = total_score + weekly[weekly['position'] == 'RB'].nlargest(2,'points').iloc[0,2]\n",
    "total_score = total_score + weekly[weekly['position'] == 'RB'].nlargest(2,'points').iloc[1,2]\n",
    "total_score = total_score + weekly[weekly['position'] == 'WR'].nlargest(2,'points').iloc[0,2]\n",
    "total_score = total_score + weekly[weekly['position'] == 'WR'].nlargest(2,'points').iloc[1,2]\n",
    "\n",
    "#have to work on flex now\n",
    "#remove already used players otherwise useable\n",
    "flexing = weekly[weekly.position != 'QB']\n",
    "flexing = flexing[flexing.position != 'D/ST']\n",
    "\n",
    "temp = flexing.loc[flexing['player'] == flexing[flexing['position'] == 'WR'].nlargest(1,'points').iloc[0,1],:].iloc[0,1]\n",
    "flexing = flexing[flexing.player != temp]\n",
    "\n",
    "temp = flexing.loc[flexing['player'] == flexing[flexing['position'] == 'WR'].nlargest(1,'points').iloc[0,1],:].iloc[0,1]\n",
    "flexing = flexing[flexing.player != temp]\n",
    "\n",
    "temp = flexing.loc[flexing['player'] == flexing[flexing['position'] == 'RB'].nlargest(1,'points').iloc[0,1],:].iloc[0,1]\n",
    "flexing = flexing[flexing.player != temp]\n",
    "\n",
    "temp = flexing.loc[flexing['player'] == flexing[flexing['position'] == 'RB'].nlargest(1,'points').iloc[0,1],:].iloc[0,1]\n",
    "flexing = flexing[flexing.player != temp]\n",
    "\n",
    "temp = flexing.loc[flexing['player'] == flexing[flexing['position'] == 'TE'].nlargest(1,'points').iloc[0,1],:].iloc[0,1]\n",
    "flexing = flexing[flexing.player != temp]\n",
    "\n",
    "total_score = total_score + flexing.nlargest(2,'points').iloc[0,2]\n",
    "total_score = total_score + flexing.nlargest(2,'points').iloc[1,2]\n",
    "#have to work on flex now\n",
    "\n",
    "total_score = round(total_score *100)\n",
    "total_score = total_score/100\n",
    "\n",
    "print(total_score)\n",
    "\n",
    "realized_points = pd.to_numeric(driver.find_element_by_xpath('//*[@id=\"espn-analytics\"]/div/div[5]/div[2]/div[2]/div/div/div/div[3]/div/div/section/table/tbody/tr/td/div/div/div[2]/table/tbody/tr/td/div/table/tbody/tr[10]/td[6]/div').text)\n",
    "\n",
    "print(realized_points)\n",
    "    "
   ]
  },
  {
   "cell_type": "code",
   "execution_count": null,
   "metadata": {},
   "outputs": [],
   "source": []
  },
  {
   "cell_type": "code",
   "execution_count": 103,
   "metadata": {},
   "outputs": [
    {
     "data": {
      "text/html": [
       "<div>\n",
       "<style scoped>\n",
       "    .dataframe tbody tr th:only-of-type {\n",
       "        vertical-align: middle;\n",
       "    }\n",
       "\n",
       "    .dataframe tbody tr th {\n",
       "        vertical-align: top;\n",
       "    }\n",
       "\n",
       "    .dataframe thead th {\n",
       "        text-align: right;\n",
       "    }\n",
       "</style>\n",
       "<table border=\"1\" class=\"dataframe\">\n",
       "  <thead>\n",
       "    <tr style=\"text-align: right;\">\n",
       "      <th></th>\n",
       "      <th>player</th>\n",
       "      <th>position</th>\n",
       "      <th>points</th>\n",
       "    </tr>\n",
       "  </thead>\n",
       "  <tbody>\n",
       "    <tr>\n",
       "      <th>0</th>\n",
       "      <td>QB</td>\n",
       "      <td>Deshaun Watson</td>\n",
       "      <td>30.72</td>\n",
       "    </tr>\n",
       "  </tbody>\n",
       "</table>\n",
       "</div>"
      ],
      "text/plain": [
       "  player        position points\n",
       "0     QB  Deshaun Watson  30.72"
      ]
     },
     "execution_count": 103,
     "metadata": {},
     "output_type": "execute_result"
    }
   ],
   "source": [
    "\n",
    "\n",
    "\n",
    "\n",
    "\n",
    "\n",
    "\n"
   ]
  },
  {
   "cell_type": "code",
   "execution_count": 118,
   "metadata": {},
   "outputs": [
    {
     "name": "stdout",
     "output_type": "stream",
     "text": [
      "<class 'pandas.core.frame.DataFrame'>\n",
      "<class 'pandas.core.frame.DataFrame'>\n"
     ]
    }
   ],
   "source": []
  },
  {
   "cell_type": "code",
   "execution_count": 184,
   "metadata": {},
   "outputs": [
    {
     "data": {
      "text/html": [
       "<div>\n",
       "<style scoped>\n",
       "    .dataframe tbody tr th:only-of-type {\n",
       "        vertical-align: middle;\n",
       "    }\n",
       "\n",
       "    .dataframe tbody tr th {\n",
       "        vertical-align: top;\n",
       "    }\n",
       "\n",
       "    .dataframe thead th {\n",
       "        text-align: right;\n",
       "    }\n",
       "</style>\n",
       "<table border=\"1\" class=\"dataframe\">\n",
       "  <thead>\n",
       "    <tr style=\"text-align: right;\">\n",
       "      <th></th>\n",
       "      <th>position</th>\n",
       "      <th>player</th>\n",
       "      <th>points</th>\n",
       "    </tr>\n",
       "  </thead>\n",
       "  <tbody>\n",
       "    <tr>\n",
       "      <th>0</th>\n",
       "      <td>QB</td>\n",
       "      <td>Deshaun Watson</td>\n",
       "      <td>30.72</td>\n",
       "    </tr>\n",
       "    <tr>\n",
       "      <th>1</th>\n",
       "      <td>RB</td>\n",
       "      <td>Aaron Jones</td>\n",
       "      <td>4.90</td>\n",
       "    </tr>\n",
       "    <tr>\n",
       "      <th>2</th>\n",
       "      <td>RB</td>\n",
       "      <td>Damien Williams</td>\n",
       "      <td>18.50</td>\n",
       "    </tr>\n",
       "    <tr>\n",
       "      <th>3</th>\n",
       "      <td>WR</td>\n",
       "      <td>Tyler Boyd</td>\n",
       "      <td>14.30</td>\n",
       "    </tr>\n",
       "    <tr>\n",
       "      <th>5</th>\n",
       "      <td>TE</td>\n",
       "      <td>George Kittle</td>\n",
       "      <td>13.40</td>\n",
       "    </tr>\n",
       "    <tr>\n",
       "      <th>6</th>\n",
       "      <td>RB</td>\n",
       "      <td>Ezekiel Elliott</td>\n",
       "      <td>13.30</td>\n",
       "    </tr>\n",
       "    <tr>\n",
       "      <th>7</th>\n",
       "      <td>WR</td>\n",
       "      <td>Donte Moncrief</td>\n",
       "      <td>3.70</td>\n",
       "    </tr>\n",
       "    <tr>\n",
       "      <th>8</th>\n",
       "      <td>D/ST</td>\n",
       "      <td>Ravens D/ST</td>\n",
       "      <td>14.00</td>\n",
       "    </tr>\n",
       "    <tr>\n",
       "      <th>9</th>\n",
       "      <td>RB</td>\n",
       "      <td>Miles Sanders</td>\n",
       "      <td>3.70</td>\n",
       "    </tr>\n",
       "    <tr>\n",
       "      <th>10</th>\n",
       "      <td>WR</td>\n",
       "      <td>Geronimo Allison</td>\n",
       "      <td>0.00</td>\n",
       "    </tr>\n",
       "    <tr>\n",
       "      <th>11</th>\n",
       "      <td>WR</td>\n",
       "      <td>DK Metcalf</td>\n",
       "      <td>12.90</td>\n",
       "    </tr>\n",
       "    <tr>\n",
       "      <th>12</th>\n",
       "      <td>WR</td>\n",
       "      <td>Albert Wilson</td>\n",
       "      <td>3.40</td>\n",
       "    </tr>\n",
       "    <tr>\n",
       "      <th>13</th>\n",
       "      <td>RB</td>\n",
       "      <td>Darwin Thompson</td>\n",
       "      <td>1.30</td>\n",
       "    </tr>\n",
       "    <tr>\n",
       "      <th>14</th>\n",
       "      <td>RB</td>\n",
       "      <td>Chase Edmonds</td>\n",
       "      <td>0.50</td>\n",
       "    </tr>\n",
       "    <tr>\n",
       "      <th>15</th>\n",
       "      <td>WR</td>\n",
       "      <td>Hunter Renfrow</td>\n",
       "      <td>3.30</td>\n",
       "    </tr>\n",
       "  </tbody>\n",
       "</table>\n",
       "</div>"
      ],
      "text/plain": [
       "   position            player  points\n",
       "0        QB    Deshaun Watson   30.72\n",
       "1        RB       Aaron Jones    4.90\n",
       "2        RB   Damien Williams   18.50\n",
       "3        WR        Tyler Boyd   14.30\n",
       "5        TE     George Kittle   13.40\n",
       "6        RB   Ezekiel Elliott   13.30\n",
       "7        WR    Donte Moncrief    3.70\n",
       "8      D/ST       Ravens D/ST   14.00\n",
       "9        RB     Miles Sanders    3.70\n",
       "10       WR  Geronimo Allison    0.00\n",
       "11       WR        DK Metcalf   12.90\n",
       "12       WR     Albert Wilson    3.40\n",
       "13       RB   Darwin Thompson    1.30\n",
       "14       RB     Chase Edmonds    0.50\n",
       "15       WR    Hunter Renfrow    3.30"
      ]
     },
     "execution_count": 184,
     "metadata": {},
     "output_type": "execute_result"
    }
   ],
   "source": []
  },
  {
   "cell_type": "code",
   "execution_count": 183,
   "metadata": {},
   "outputs": [
    {
     "data": {
      "text/plain": [
       "'John Brown'"
      ]
     },
     "execution_count": 183,
     "metadata": {},
     "output_type": "execute_result"
    }
   ],
   "source": []
  },
  {
   "cell_type": "code",
   "execution_count": 185,
   "metadata": {},
   "outputs": [
    {
     "data": {
      "text/html": [
       "<div>\n",
       "<style scoped>\n",
       "    .dataframe tbody tr th:only-of-type {\n",
       "        vertical-align: middle;\n",
       "    }\n",
       "\n",
       "    .dataframe tbody tr th {\n",
       "        vertical-align: top;\n",
       "    }\n",
       "\n",
       "    .dataframe thead th {\n",
       "        text-align: right;\n",
       "    }\n",
       "</style>\n",
       "<table border=\"1\" class=\"dataframe\">\n",
       "  <thead>\n",
       "    <tr style=\"text-align: right;\">\n",
       "      <th></th>\n",
       "      <th>position</th>\n",
       "      <th>player</th>\n",
       "      <th>points</th>\n",
       "    </tr>\n",
       "  </thead>\n",
       "  <tbody>\n",
       "    <tr>\n",
       "      <th>0</th>\n",
       "      <td>QB</td>\n",
       "      <td>Deshaun Watson</td>\n",
       "      <td>30.72</td>\n",
       "    </tr>\n",
       "    <tr>\n",
       "      <th>1</th>\n",
       "      <td>RB</td>\n",
       "      <td>Aaron Jones</td>\n",
       "      <td>4.90</td>\n",
       "    </tr>\n",
       "    <tr>\n",
       "      <th>2</th>\n",
       "      <td>RB</td>\n",
       "      <td>Damien Williams</td>\n",
       "      <td>18.50</td>\n",
       "    </tr>\n",
       "    <tr>\n",
       "      <th>3</th>\n",
       "      <td>WR</td>\n",
       "      <td>Tyler Boyd</td>\n",
       "      <td>14.30</td>\n",
       "    </tr>\n",
       "    <tr>\n",
       "      <th>4</th>\n",
       "      <td>WR</td>\n",
       "      <td>John Brown</td>\n",
       "      <td>26.30</td>\n",
       "    </tr>\n",
       "    <tr>\n",
       "      <th>5</th>\n",
       "      <td>TE</td>\n",
       "      <td>George Kittle</td>\n",
       "      <td>13.40</td>\n",
       "    </tr>\n",
       "    <tr>\n",
       "      <th>6</th>\n",
       "      <td>RB</td>\n",
       "      <td>Ezekiel Elliott</td>\n",
       "      <td>13.30</td>\n",
       "    </tr>\n",
       "    <tr>\n",
       "      <th>7</th>\n",
       "      <td>WR</td>\n",
       "      <td>Donte Moncrief</td>\n",
       "      <td>3.70</td>\n",
       "    </tr>\n",
       "    <tr>\n",
       "      <th>8</th>\n",
       "      <td>D/ST</td>\n",
       "      <td>Ravens D/ST</td>\n",
       "      <td>14.00</td>\n",
       "    </tr>\n",
       "    <tr>\n",
       "      <th>9</th>\n",
       "      <td>RB</td>\n",
       "      <td>Miles Sanders</td>\n",
       "      <td>3.70</td>\n",
       "    </tr>\n",
       "    <tr>\n",
       "      <th>10</th>\n",
       "      <td>WR</td>\n",
       "      <td>Geronimo Allison</td>\n",
       "      <td>0.00</td>\n",
       "    </tr>\n",
       "    <tr>\n",
       "      <th>11</th>\n",
       "      <td>WR</td>\n",
       "      <td>DK Metcalf</td>\n",
       "      <td>12.90</td>\n",
       "    </tr>\n",
       "    <tr>\n",
       "      <th>12</th>\n",
       "      <td>WR</td>\n",
       "      <td>Albert Wilson</td>\n",
       "      <td>3.40</td>\n",
       "    </tr>\n",
       "    <tr>\n",
       "      <th>13</th>\n",
       "      <td>RB</td>\n",
       "      <td>Darwin Thompson</td>\n",
       "      <td>1.30</td>\n",
       "    </tr>\n",
       "    <tr>\n",
       "      <th>14</th>\n",
       "      <td>RB</td>\n",
       "      <td>Chase Edmonds</td>\n",
       "      <td>0.50</td>\n",
       "    </tr>\n",
       "    <tr>\n",
       "      <th>15</th>\n",
       "      <td>WR</td>\n",
       "      <td>Hunter Renfrow</td>\n",
       "      <td>3.30</td>\n",
       "    </tr>\n",
       "  </tbody>\n",
       "</table>\n",
       "</div>"
      ],
      "text/plain": [
       "   position            player  points\n",
       "0        QB    Deshaun Watson   30.72\n",
       "1        RB       Aaron Jones    4.90\n",
       "2        RB   Damien Williams   18.50\n",
       "3        WR        Tyler Boyd   14.30\n",
       "4        WR        John Brown   26.30\n",
       "5        TE     George Kittle   13.40\n",
       "6        RB   Ezekiel Elliott   13.30\n",
       "7        WR    Donte Moncrief    3.70\n",
       "8      D/ST       Ravens D/ST   14.00\n",
       "9        RB     Miles Sanders    3.70\n",
       "10       WR  Geronimo Allison    0.00\n",
       "11       WR        DK Metcalf   12.90\n",
       "12       WR     Albert Wilson    3.40\n",
       "13       RB   Darwin Thompson    1.30\n",
       "14       RB     Chase Edmonds    0.50\n",
       "15       WR    Hunter Renfrow    3.30"
      ]
     },
     "execution_count": 185,
     "metadata": {},
     "output_type": "execute_result"
    }
   ],
   "source": []
  },
  {
   "cell_type": "markdown",
   "metadata": {},
   "source": [
    "begining of consensous rankings analysis"
   ]
  },
  {
   "cell_type": "markdown",
   "metadata": {},
   "source": [
    "THIS IS WHERE THE ANALSYSIS WITH CONCENSOUS RANKINGS BEGINS\n",
    "\n",
    "\n",
    "\n",
    "\n",
    "\n",
    "\n",
    "\n"
   ]
  },
  {
   "cell_type": "code",
   "execution_count": 25,
   "metadata": {},
   "outputs": [
    {
     "data": {
      "text/plain": [
       "27"
      ]
     },
     "execution_count": 25,
     "metadata": {},
     "output_type": "execute_result"
    }
   ],
   "source": [
    "data.columns = ['Rank', 'player', 'Team', 'Position', 'Min', 'Max', 'STDev']\n",
    "data.head()\n",
    "\n",
    "len(data.player)"
   ]
  },
  {
   "cell_type": "code",
   "execution_count": 111,
   "metadata": {},
   "outputs": [
    {
     "name": "stdout",
     "output_type": "stream",
     "text": [
      "Ravens D/ST\n",
      "Deshaun Watson\n",
      "POINTS WITH DESEAN AND DEFENSE 44.72\n",
      "Ezekiel Elliott\n",
      "Damien Williams\n",
      "Tyler Boyd\n",
      "Donte Moncrief\n",
      "George Kittle\n",
      "   position            player  points\n",
      "1        RB       Aaron Jones     4.9\n",
      "4        WR        John Brown    26.3\n",
      "9        RB     Miles Sanders     3.7\n",
      "10       WR  Geronimo Allison     0.0\n",
      "11       WR        DK Metcalf    12.9\n",
      "12       WR     Albert Wilson     3.4\n",
      "13       RB   Darwin Thompson     1.3\n",
      "14       RB     Chase Edmonds     0.5\n",
      "15       WR    Hunter Renfrow     3.3\n",
      "Aaron Jones\n",
      "Miles Sanders\n"
     ]
    }
   ],
   "source": [
    "import pandas as pd\n",
    "import numpy as np\n",
    "j=0\n",
    "if (j+1) < 10:\n",
    "    csv_completer = '0'+str(j+1)\n",
    "\n",
    "#get defense dataframe\n",
    "data = pd.read_csv(\"FantasyPros-W\"+csv_completer+\"-D.csv\")\n",
    "data.columns = ['Rank', 'player', 'Team', 'Position', 'Min', 'Max', 'STDev']\n",
    "\n",
    "tempy = weekly\n",
    "tempy = tempy[tempy.position == 'D/ST']\n",
    "pros_points = 0\n",
    "rank = 150\n",
    "\n",
    "for team in tempy.player:\n",
    "    #print(team)\n",
    "    #print(tempy)\n",
    "    inner_temp = tempy.iloc[0,1].split(' ')\n",
    "    for i in range(len(data.player)):\n",
    "        if inner_temp[0].lower() in re.sub(r'[^\\w\\s]','',data.iloc[i,1].lower()):\n",
    "            if data.iloc[i,0] < rank:\n",
    "                answer = team\n",
    "print(answer)\n",
    "pros_points = weekly.loc[weekly['player'] == answer].iloc[0,2]\n",
    "\n",
    "weekly\n",
    "\n",
    "#get QB dataframe\n",
    "data = pd.read_csv(\"FantasyPros-W\"+csv_completer+\"-QB.csv\")\n",
    "data.columns = ['Rank', 'player', 'Team', 'Position', 'Min', 'Max', 'STDev']\n",
    "\n",
    "tempy = weekly\n",
    "tempy = tempy[tempy.position == 'QB']\n",
    "\n",
    "rank = 150\n",
    "\n",
    "for player_ in tempy.player:\n",
    "    #print(team)\n",
    "    #print(tempy)\n",
    "    inner_temp = tempy.iloc[0,1]\n",
    "    for i in range(len(data.player)):\n",
    "        if inner_temp[0].lower() in re.sub(r'[^\\w\\s]','',data.iloc[i,1].lower()):\n",
    "            re.sub(r'[^\\w\\s]','',s)\n",
    "            if data.iloc[i,0] < rank:\n",
    "                rank = data.iloc[i,0]\n",
    "                answer = player_\n",
    "print(answer)\n",
    "pros_points = pros_points + weekly.loc[weekly['player'] == answer].iloc[0,2]\n",
    "\n",
    "print('POINTS WITH DESEAN AND DEFENSE', pros_points)\n",
    "\n",
    "#get Flex dataframe\n",
    "data = pd.read_csv(\"FantasyPros-W\"+csv_completer+\"-Flex.csv\")\n",
    "data.columns = ['Rank', 'player', 'Team', 'Position', 'Min', 'Max', 'STDev']\n",
    "\n",
    "weekly2 = weekly\n",
    "tempy = weekly2[weekly2.position == 'RB']\n",
    "\n",
    "rank = 200\n",
    "\n",
    "temp_data = data.loc[data['Position'] == 'RB']\n",
    "\n",
    "#need to start 2 rbs\n",
    "for j in range(2):\n",
    "    #print(tempy)\n",
    "    rank = 150\n",
    "    for player_ in tempy.player:\n",
    "        #print(player_)\n",
    "        #print(type(player_))\n",
    "        #inner_temp = tempy.iloc[0,1]\n",
    "        for i in range(len(temp_data.player)):\n",
    "            if player_.lower() in re.sub(r'[^\\w\\s]','',temp_data.iloc[i,1].lower()):\n",
    "                re.sub(r'[^\\w\\s]','',s)\n",
    "                #print('This was true')\n",
    "                #print(temp_data.iloc[i,1].lower())\n",
    "                #print(player_.lower())\n",
    "                \n",
    "                \n",
    "                if temp_data.iloc[i,0] < rank:\n",
    "                    rank = temp_data.iloc[i,0]\n",
    "                    #print(temp_data.iloc[i,0])\n",
    "                    answer = player_\n",
    "                \n",
    "                    \n",
    "    print(answer)               \n",
    "    pros_points = pros_points + weekly.loc[weekly['player'] == answer].iloc[0,2]\n",
    "\n",
    "    tempy = tempy[tempy.player != answer]\n",
    "\n",
    "    weekly2 = weekly2[weekly2.player != answer]\n",
    "    \n",
    "    \n",
    "#work on WRs\n",
    "tempy = weekly2[weekly2.position == 'WR']\n",
    "\n",
    "rank = 150\n",
    "\n",
    "temp_data = data.loc[data['Position'] == 'WR']\n",
    "\n",
    "#need to start 2 rbs\n",
    "for j in range(2):\n",
    "    #print(tempy)\n",
    "    rank = 200\n",
    "    for player_ in tempy.player:\n",
    "        #print(player_)\n",
    "        #print(type(player_))\n",
    "        #inner_temp = tempy.iloc[0,1]\n",
    "        for i in range(len(temp_data.player)):\n",
    "            if player_.lower() in re.sub(r'[^\\w\\s]','',temp_data.iloc[i,1].lower()):\n",
    "                re.sub(r'[^\\w\\s]','',s)\n",
    "                #print('This was tr\n",
    "                if temp_data.iloc[i,0] < rank:\n",
    "                    rank = temp_data.iloc[i,0]\n",
    "                    #print(temp_data.iloc[i,0])\n",
    "                    answer = player_\n",
    "                \n",
    "                    \n",
    "    print(answer)             \n",
    "    pros_points = pros_points + weekly.loc[weekly['player'] == answer].iloc[0,2]\n",
    "\n",
    "    tempy = tempy[tempy.player != answer]\n",
    "\n",
    "    weekly2 = weekly2[weekly2.player != answer]\n",
    "\n",
    "\n",
    "    \n",
    "#get the TE\n",
    "tempy = weekly2[weekly2.position == 'TE']\n",
    "rank = 150\n",
    "temp_data = data.loc[data['Position'] == 'TE']\n",
    "\n",
    "#need to start 2 rbs\n",
    "rank = 200\n",
    "for player_ in tempy.player:\n",
    "    #print(player_)\n",
    "    #print(type(player_))\n",
    "    #inner_temp = tempy.iloc[0,1]\n",
    "    for i in range(len(temp_data.player)):\n",
    "        if player_.lower() in re.sub(r'[^\\w\\s]','',temp_data.iloc[i,1].lower()):\n",
    "            re.sub(r'[^\\w\\s]','',s)\n",
    "            #print('This was true')\n",
    "            #print(temp_data.iloc[i,1].lower())\n",
    "            #print(player_.lower())\n",
    "\n",
    "\n",
    "            if temp_data.iloc[i,0] < rank:\n",
    "                rank = temp_data.iloc[i,0]\n",
    "                #print(temp_data.iloc[i,0])\n",
    "                answer = player_\n",
    "\n",
    "\n",
    "print(answer)\n",
    "pros_points = pros_points + weekly.loc[weekly['player'] == answer].iloc[0,2]\n",
    "\n",
    "tempy = tempy[tempy.player != answer]\n",
    "\n",
    "weekly2 = weekly2[weekly2.player != answer]\n",
    "    \n",
    "    \n",
    "\n",
    "#get the TE\n",
    "\n",
    "tempy = weekly2[weekly2.position != 'QB']\n",
    "tempy = tempy[tempy.position != 'D/ST']\n",
    "temp_data = data\n",
    "\n",
    "\n",
    "print(tempy)\n",
    "#need to start 2 rbs\n",
    "for j in range(2):\n",
    "    rank = 200\n",
    "    for player_ in tempy.player:\n",
    "        #inner_temp = tempy.iloc[0,1]\n",
    "        for i in range(len(temp_data.player)):\n",
    "            if player_.lower() in re.sub(r'[^\\w\\s]','',temp_data.iloc[i,1].lower()):\n",
    "\n",
    "                if temp_data.iloc[i,0] < rank:\n",
    "                    rank = temp_data.iloc[i,0]\n",
    "                    #print(temp_data.iloc[i,0])\n",
    "                    answer = player_\n",
    "\n",
    "    print(answer)\n",
    "    pros_points = pros_points + weekly.loc[weekly['player'] == answer].iloc[0,2]\n",
    "\n",
    "    tempy = tempy[tempy.player != answer]\n",
    "\n",
    "    weekly2 = weekly2[weekly2.player != answer]\n",
    "    \n",
    "    \n",
    "    \n",
    "    \n"
   ]
  },
  {
   "cell_type": "code",
   "execution_count": 119,
   "metadata": {},
   "outputs": [
    {
     "data": {
      "text/html": [
       "<div>\n",
       "<style scoped>\n",
       "    .dataframe tbody tr th:only-of-type {\n",
       "        vertical-align: middle;\n",
       "    }\n",
       "\n",
       "    .dataframe tbody tr th {\n",
       "        vertical-align: top;\n",
       "    }\n",
       "\n",
       "    .dataframe thead th {\n",
       "        text-align: right;\n",
       "    }\n",
       "</style>\n",
       "<table border=\"1\" class=\"dataframe\">\n",
       "  <thead>\n",
       "    <tr style=\"text-align: right;\">\n",
       "      <th></th>\n",
       "      <th>realized_points</th>\n",
       "      <th>poss_points</th>\n",
       "      <th>pro_points</th>\n",
       "    </tr>\n",
       "  </thead>\n",
       "  <tbody>\n",
       "    <tr>\n",
       "      <th>0</th>\n",
       "      <td>139.12</td>\n",
       "      <td>148.32</td>\n",
       "      <td>116.52</td>\n",
       "    </tr>\n",
       "    <tr>\n",
       "      <th>1</th>\n",
       "      <td>133.36</td>\n",
       "      <td>135.26</td>\n",
       "      <td>133.36</td>\n",
       "    </tr>\n",
       "    <tr>\n",
       "      <th>2</th>\n",
       "      <td>121.34</td>\n",
       "      <td>144.44</td>\n",
       "      <td>121.34</td>\n",
       "    </tr>\n",
       "    <tr>\n",
       "      <th>3</th>\n",
       "      <td>65.10</td>\n",
       "      <td>81.70</td>\n",
       "      <td>68.40</td>\n",
       "    </tr>\n",
       "    <tr>\n",
       "      <th>4</th>\n",
       "      <td>190.24</td>\n",
       "      <td>201.44</td>\n",
       "      <td>195.84</td>\n",
       "    </tr>\n",
       "    <tr>\n",
       "      <th>5</th>\n",
       "      <td>133.50</td>\n",
       "      <td>136.50</td>\n",
       "      <td>120.40</td>\n",
       "    </tr>\n",
       "    <tr>\n",
       "      <th>6</th>\n",
       "      <td>130.32</td>\n",
       "      <td>135.02</td>\n",
       "      <td>127.62</td>\n",
       "    </tr>\n",
       "    <tr>\n",
       "      <th>7</th>\n",
       "      <td>169.56</td>\n",
       "      <td>171.26</td>\n",
       "      <td>171.26</td>\n",
       "    </tr>\n",
       "    <tr>\n",
       "      <th>8</th>\n",
       "      <td>130.64</td>\n",
       "      <td>149.24</td>\n",
       "      <td>149.14</td>\n",
       "    </tr>\n",
       "    <tr>\n",
       "      <th>9</th>\n",
       "      <td>124.68</td>\n",
       "      <td>124.68</td>\n",
       "      <td>124.68</td>\n",
       "    </tr>\n",
       "    <tr>\n",
       "      <th>10</th>\n",
       "      <td>97.06</td>\n",
       "      <td>129.86</td>\n",
       "      <td>97.06</td>\n",
       "    </tr>\n",
       "    <tr>\n",
       "      <th>11</th>\n",
       "      <td>128.32</td>\n",
       "      <td>130.32</td>\n",
       "      <td>113.02</td>\n",
       "    </tr>\n",
       "    <tr>\n",
       "      <th>12</th>\n",
       "      <td>134.68</td>\n",
       "      <td>172.26</td>\n",
       "      <td>134.68</td>\n",
       "    </tr>\n",
       "  </tbody>\n",
       "</table>\n",
       "</div>"
      ],
      "text/plain": [
       "    realized_points  poss_points  pro_points\n",
       "0            139.12       148.32      116.52\n",
       "1            133.36       135.26      133.36\n",
       "2            121.34       144.44      121.34\n",
       "3             65.10        81.70       68.40\n",
       "4            190.24       201.44      195.84\n",
       "5            133.50       136.50      120.40\n",
       "6            130.32       135.02      127.62\n",
       "7            169.56       171.26      171.26\n",
       "8            130.64       149.24      149.14\n",
       "9            124.68       124.68      124.68\n",
       "10            97.06       129.86       97.06\n",
       "11           128.32       130.32      113.02\n",
       "12           134.68       172.26      134.68"
      ]
     },
     "execution_count": 119,
     "metadata": {},
     "output_type": "execute_result"
    }
   ],
   "source": [
    "weekly_points"
   ]
  },
  {
   "cell_type": "code",
   "execution_count": 134,
   "metadata": {},
   "outputs": [
    {
     "name": "stdout",
     "output_type": "stream",
     "text": [
      "Weeks pro recommended line-up outperformed player chosen lineup: 4\n",
      "Weeks player chosen line-up outperformed pro recommended lineup: 4\n",
      "Average amount of points pro recommended line-up on average outperformed player chosen lineup -1.89\n"
     ]
    },
    {
     "data": {
      "application/vnd.plotly.v1+json": {
       "config": {
        "plotlyServerURL": "https://plot.ly"
       },
       "data": [
        {
         "marker": {
          "color": "indianred"
         },
         "name": "Player Chosen Lineup",
         "type": "bar",
         "x": [
          1,
          2,
          3,
          4,
          5,
          6,
          7,
          8,
          9,
          10,
          11,
          12,
          13
         ],
         "y": [
          139.12,
          133.36,
          121.34,
          65.1,
          190.24,
          133.5,
          130.32,
          169.56,
          130.64,
          124.68,
          97.06,
          128.32,
          134.68
         ]
        },
        {
         "marker": {
          "color": "lightsalmon"
         },
         "name": "Pro Consensus Recommended Lineup",
         "type": "bar",
         "x": [
          1,
          2,
          3,
          4,
          5,
          6,
          7,
          8,
          9,
          10,
          11,
          12,
          13
         ],
         "y": [
          116.52,
          133.36,
          121.34,
          68.4,
          195.84,
          120.4,
          127.62,
          171.26,
          149.14,
          124.68,
          97.06,
          113.02,
          134.68
         ]
        }
       ],
       "layout": {
        "barmode": "group",
        "font": {
         "color": "#7f7f7f",
         "family": "Courier New, monospace",
         "size": 18
        },
        "template": {
         "data": {
          "bar": [
           {
            "error_x": {
             "color": "#2a3f5f"
            },
            "error_y": {
             "color": "#2a3f5f"
            },
            "marker": {
             "line": {
              "color": "#E5ECF6",
              "width": 0.5
             }
            },
            "type": "bar"
           }
          ],
          "barpolar": [
           {
            "marker": {
             "line": {
              "color": "#E5ECF6",
              "width": 0.5
             }
            },
            "type": "barpolar"
           }
          ],
          "carpet": [
           {
            "aaxis": {
             "endlinecolor": "#2a3f5f",
             "gridcolor": "white",
             "linecolor": "white",
             "minorgridcolor": "white",
             "startlinecolor": "#2a3f5f"
            },
            "baxis": {
             "endlinecolor": "#2a3f5f",
             "gridcolor": "white",
             "linecolor": "white",
             "minorgridcolor": "white",
             "startlinecolor": "#2a3f5f"
            },
            "type": "carpet"
           }
          ],
          "choropleth": [
           {
            "colorbar": {
             "outlinewidth": 0,
             "ticks": ""
            },
            "type": "choropleth"
           }
          ],
          "contour": [
           {
            "colorbar": {
             "outlinewidth": 0,
             "ticks": ""
            },
            "colorscale": [
             [
              0,
              "#0d0887"
             ],
             [
              0.1111111111111111,
              "#46039f"
             ],
             [
              0.2222222222222222,
              "#7201a8"
             ],
             [
              0.3333333333333333,
              "#9c179e"
             ],
             [
              0.4444444444444444,
              "#bd3786"
             ],
             [
              0.5555555555555556,
              "#d8576b"
             ],
             [
              0.6666666666666666,
              "#ed7953"
             ],
             [
              0.7777777777777778,
              "#fb9f3a"
             ],
             [
              0.8888888888888888,
              "#fdca26"
             ],
             [
              1,
              "#f0f921"
             ]
            ],
            "type": "contour"
           }
          ],
          "contourcarpet": [
           {
            "colorbar": {
             "outlinewidth": 0,
             "ticks": ""
            },
            "type": "contourcarpet"
           }
          ],
          "heatmap": [
           {
            "colorbar": {
             "outlinewidth": 0,
             "ticks": ""
            },
            "colorscale": [
             [
              0,
              "#0d0887"
             ],
             [
              0.1111111111111111,
              "#46039f"
             ],
             [
              0.2222222222222222,
              "#7201a8"
             ],
             [
              0.3333333333333333,
              "#9c179e"
             ],
             [
              0.4444444444444444,
              "#bd3786"
             ],
             [
              0.5555555555555556,
              "#d8576b"
             ],
             [
              0.6666666666666666,
              "#ed7953"
             ],
             [
              0.7777777777777778,
              "#fb9f3a"
             ],
             [
              0.8888888888888888,
              "#fdca26"
             ],
             [
              1,
              "#f0f921"
             ]
            ],
            "type": "heatmap"
           }
          ],
          "heatmapgl": [
           {
            "colorbar": {
             "outlinewidth": 0,
             "ticks": ""
            },
            "colorscale": [
             [
              0,
              "#0d0887"
             ],
             [
              0.1111111111111111,
              "#46039f"
             ],
             [
              0.2222222222222222,
              "#7201a8"
             ],
             [
              0.3333333333333333,
              "#9c179e"
             ],
             [
              0.4444444444444444,
              "#bd3786"
             ],
             [
              0.5555555555555556,
              "#d8576b"
             ],
             [
              0.6666666666666666,
              "#ed7953"
             ],
             [
              0.7777777777777778,
              "#fb9f3a"
             ],
             [
              0.8888888888888888,
              "#fdca26"
             ],
             [
              1,
              "#f0f921"
             ]
            ],
            "type": "heatmapgl"
           }
          ],
          "histogram": [
           {
            "marker": {
             "colorbar": {
              "outlinewidth": 0,
              "ticks": ""
             }
            },
            "type": "histogram"
           }
          ],
          "histogram2d": [
           {
            "colorbar": {
             "outlinewidth": 0,
             "ticks": ""
            },
            "colorscale": [
             [
              0,
              "#0d0887"
             ],
             [
              0.1111111111111111,
              "#46039f"
             ],
             [
              0.2222222222222222,
              "#7201a8"
             ],
             [
              0.3333333333333333,
              "#9c179e"
             ],
             [
              0.4444444444444444,
              "#bd3786"
             ],
             [
              0.5555555555555556,
              "#d8576b"
             ],
             [
              0.6666666666666666,
              "#ed7953"
             ],
             [
              0.7777777777777778,
              "#fb9f3a"
             ],
             [
              0.8888888888888888,
              "#fdca26"
             ],
             [
              1,
              "#f0f921"
             ]
            ],
            "type": "histogram2d"
           }
          ],
          "histogram2dcontour": [
           {
            "colorbar": {
             "outlinewidth": 0,
             "ticks": ""
            },
            "colorscale": [
             [
              0,
              "#0d0887"
             ],
             [
              0.1111111111111111,
              "#46039f"
             ],
             [
              0.2222222222222222,
              "#7201a8"
             ],
             [
              0.3333333333333333,
              "#9c179e"
             ],
             [
              0.4444444444444444,
              "#bd3786"
             ],
             [
              0.5555555555555556,
              "#d8576b"
             ],
             [
              0.6666666666666666,
              "#ed7953"
             ],
             [
              0.7777777777777778,
              "#fb9f3a"
             ],
             [
              0.8888888888888888,
              "#fdca26"
             ],
             [
              1,
              "#f0f921"
             ]
            ],
            "type": "histogram2dcontour"
           }
          ],
          "mesh3d": [
           {
            "colorbar": {
             "outlinewidth": 0,
             "ticks": ""
            },
            "type": "mesh3d"
           }
          ],
          "parcoords": [
           {
            "line": {
             "colorbar": {
              "outlinewidth": 0,
              "ticks": ""
             }
            },
            "type": "parcoords"
           }
          ],
          "pie": [
           {
            "automargin": true,
            "type": "pie"
           }
          ],
          "scatter": [
           {
            "marker": {
             "colorbar": {
              "outlinewidth": 0,
              "ticks": ""
             }
            },
            "type": "scatter"
           }
          ],
          "scatter3d": [
           {
            "line": {
             "colorbar": {
              "outlinewidth": 0,
              "ticks": ""
             }
            },
            "marker": {
             "colorbar": {
              "outlinewidth": 0,
              "ticks": ""
             }
            },
            "type": "scatter3d"
           }
          ],
          "scattercarpet": [
           {
            "marker": {
             "colorbar": {
              "outlinewidth": 0,
              "ticks": ""
             }
            },
            "type": "scattercarpet"
           }
          ],
          "scattergeo": [
           {
            "marker": {
             "colorbar": {
              "outlinewidth": 0,
              "ticks": ""
             }
            },
            "type": "scattergeo"
           }
          ],
          "scattergl": [
           {
            "marker": {
             "colorbar": {
              "outlinewidth": 0,
              "ticks": ""
             }
            },
            "type": "scattergl"
           }
          ],
          "scattermapbox": [
           {
            "marker": {
             "colorbar": {
              "outlinewidth": 0,
              "ticks": ""
             }
            },
            "type": "scattermapbox"
           }
          ],
          "scatterpolar": [
           {
            "marker": {
             "colorbar": {
              "outlinewidth": 0,
              "ticks": ""
             }
            },
            "type": "scatterpolar"
           }
          ],
          "scatterpolargl": [
           {
            "marker": {
             "colorbar": {
              "outlinewidth": 0,
              "ticks": ""
             }
            },
            "type": "scatterpolargl"
           }
          ],
          "scatterternary": [
           {
            "marker": {
             "colorbar": {
              "outlinewidth": 0,
              "ticks": ""
             }
            },
            "type": "scatterternary"
           }
          ],
          "surface": [
           {
            "colorbar": {
             "outlinewidth": 0,
             "ticks": ""
            },
            "colorscale": [
             [
              0,
              "#0d0887"
             ],
             [
              0.1111111111111111,
              "#46039f"
             ],
             [
              0.2222222222222222,
              "#7201a8"
             ],
             [
              0.3333333333333333,
              "#9c179e"
             ],
             [
              0.4444444444444444,
              "#bd3786"
             ],
             [
              0.5555555555555556,
              "#d8576b"
             ],
             [
              0.6666666666666666,
              "#ed7953"
             ],
             [
              0.7777777777777778,
              "#fb9f3a"
             ],
             [
              0.8888888888888888,
              "#fdca26"
             ],
             [
              1,
              "#f0f921"
             ]
            ],
            "type": "surface"
           }
          ],
          "table": [
           {
            "cells": {
             "fill": {
              "color": "#EBF0F8"
             },
             "line": {
              "color": "white"
             }
            },
            "header": {
             "fill": {
              "color": "#C8D4E3"
             },
             "line": {
              "color": "white"
             }
            },
            "type": "table"
           }
          ]
         },
         "layout": {
          "annotationdefaults": {
           "arrowcolor": "#2a3f5f",
           "arrowhead": 0,
           "arrowwidth": 1
          },
          "coloraxis": {
           "colorbar": {
            "outlinewidth": 0,
            "ticks": ""
           }
          },
          "colorscale": {
           "diverging": [
            [
             0,
             "#8e0152"
            ],
            [
             0.1,
             "#c51b7d"
            ],
            [
             0.2,
             "#de77ae"
            ],
            [
             0.3,
             "#f1b6da"
            ],
            [
             0.4,
             "#fde0ef"
            ],
            [
             0.5,
             "#f7f7f7"
            ],
            [
             0.6,
             "#e6f5d0"
            ],
            [
             0.7,
             "#b8e186"
            ],
            [
             0.8,
             "#7fbc41"
            ],
            [
             0.9,
             "#4d9221"
            ],
            [
             1,
             "#276419"
            ]
           ],
           "sequential": [
            [
             0,
             "#0d0887"
            ],
            [
             0.1111111111111111,
             "#46039f"
            ],
            [
             0.2222222222222222,
             "#7201a8"
            ],
            [
             0.3333333333333333,
             "#9c179e"
            ],
            [
             0.4444444444444444,
             "#bd3786"
            ],
            [
             0.5555555555555556,
             "#d8576b"
            ],
            [
             0.6666666666666666,
             "#ed7953"
            ],
            [
             0.7777777777777778,
             "#fb9f3a"
            ],
            [
             0.8888888888888888,
             "#fdca26"
            ],
            [
             1,
             "#f0f921"
            ]
           ],
           "sequentialminus": [
            [
             0,
             "#0d0887"
            ],
            [
             0.1111111111111111,
             "#46039f"
            ],
            [
             0.2222222222222222,
             "#7201a8"
            ],
            [
             0.3333333333333333,
             "#9c179e"
            ],
            [
             0.4444444444444444,
             "#bd3786"
            ],
            [
             0.5555555555555556,
             "#d8576b"
            ],
            [
             0.6666666666666666,
             "#ed7953"
            ],
            [
             0.7777777777777778,
             "#fb9f3a"
            ],
            [
             0.8888888888888888,
             "#fdca26"
            ],
            [
             1,
             "#f0f921"
            ]
           ]
          },
          "colorway": [
           "#636efa",
           "#EF553B",
           "#00cc96",
           "#ab63fa",
           "#FFA15A",
           "#19d3f3",
           "#FF6692",
           "#B6E880",
           "#FF97FF",
           "#FECB52"
          ],
          "font": {
           "color": "#2a3f5f"
          },
          "geo": {
           "bgcolor": "white",
           "lakecolor": "white",
           "landcolor": "#E5ECF6",
           "showlakes": true,
           "showland": true,
           "subunitcolor": "white"
          },
          "hoverlabel": {
           "align": "left"
          },
          "hovermode": "closest",
          "mapbox": {
           "style": "light"
          },
          "paper_bgcolor": "white",
          "plot_bgcolor": "#E5ECF6",
          "polar": {
           "angularaxis": {
            "gridcolor": "white",
            "linecolor": "white",
            "ticks": ""
           },
           "bgcolor": "#E5ECF6",
           "radialaxis": {
            "gridcolor": "white",
            "linecolor": "white",
            "ticks": ""
           }
          },
          "scene": {
           "xaxis": {
            "backgroundcolor": "#E5ECF6",
            "gridcolor": "white",
            "gridwidth": 2,
            "linecolor": "white",
            "showbackground": true,
            "ticks": "",
            "zerolinecolor": "white"
           },
           "yaxis": {
            "backgroundcolor": "#E5ECF6",
            "gridcolor": "white",
            "gridwidth": 2,
            "linecolor": "white",
            "showbackground": true,
            "ticks": "",
            "zerolinecolor": "white"
           },
           "zaxis": {
            "backgroundcolor": "#E5ECF6",
            "gridcolor": "white",
            "gridwidth": 2,
            "linecolor": "white",
            "showbackground": true,
            "ticks": "",
            "zerolinecolor": "white"
           }
          },
          "shapedefaults": {
           "line": {
            "color": "#2a3f5f"
           }
          },
          "ternary": {
           "aaxis": {
            "gridcolor": "white",
            "linecolor": "white",
            "ticks": ""
           },
           "baxis": {
            "gridcolor": "white",
            "linecolor": "white",
            "ticks": ""
           },
           "bgcolor": "#E5ECF6",
           "caxis": {
            "gridcolor": "white",
            "linecolor": "white",
            "ticks": ""
           }
          },
          "title": {
           "x": 0.05
          },
          "xaxis": {
           "automargin": true,
           "gridcolor": "white",
           "linecolor": "white",
           "ticks": "",
           "title": {
            "standoff": 15
           },
           "zerolinecolor": "white",
           "zerolinewidth": 2
          },
          "yaxis": {
           "automargin": true,
           "gridcolor": "white",
           "linecolor": "white",
           "ticks": "",
           "title": {
            "standoff": 15
           },
           "zerolinecolor": "white",
           "zerolinewidth": 2
          }
         }
        },
        "title": {
         "text": "Possible Points Each Week vs Pro Consensus Recommended Lineup"
        },
        "xaxis": {
         "dtick": 1,
         "tick0": 0,
         "tickangle": -45,
         "tickmode": "linear",
         "title": {
          "text": "Week"
         }
        },
        "yaxis": {
         "title": {
          "text": "Points"
         }
        }
       }
      },
      "text/html": [
       "<div>\n",
       "        \n",
       "        \n",
       "            <div id=\"a26dcf56-11b0-4a28-a9e9-3b4f3471cc90\" class=\"plotly-graph-div\" style=\"height:525px; width:100%;\"></div>\n",
       "            <script type=\"text/javascript\">\n",
       "                require([\"plotly\"], function(Plotly) {\n",
       "                    window.PLOTLYENV=window.PLOTLYENV || {};\n",
       "                    \n",
       "                if (document.getElementById(\"a26dcf56-11b0-4a28-a9e9-3b4f3471cc90\")) {\n",
       "                    Plotly.newPlot(\n",
       "                        'a26dcf56-11b0-4a28-a9e9-3b4f3471cc90',\n",
       "                        [{\"marker\": {\"color\": \"indianred\"}, \"name\": \"Player Chosen Lineup\", \"type\": \"bar\", \"x\": [1, 2, 3, 4, 5, 6, 7, 8, 9, 10, 11, 12, 13], \"y\": [139.12, 133.36, 121.34, 65.1, 190.24, 133.5, 130.32, 169.56, 130.64, 124.68, 97.06, 128.32, 134.68]}, {\"marker\": {\"color\": \"lightsalmon\"}, \"name\": \"Pro Consensus Recommended Lineup\", \"type\": \"bar\", \"x\": [1, 2, 3, 4, 5, 6, 7, 8, 9, 10, 11, 12, 13], \"y\": [116.52, 133.36, 121.34, 68.4, 195.84, 120.4, 127.62, 171.26, 149.14, 124.68, 97.06, 113.02, 134.68]}],\n",
       "                        {\"barmode\": \"group\", \"font\": {\"color\": \"#7f7f7f\", \"family\": \"Courier New, monospace\", \"size\": 18}, \"template\": {\"data\": {\"bar\": [{\"error_x\": {\"color\": \"#2a3f5f\"}, \"error_y\": {\"color\": \"#2a3f5f\"}, \"marker\": {\"line\": {\"color\": \"#E5ECF6\", \"width\": 0.5}}, \"type\": \"bar\"}], \"barpolar\": [{\"marker\": {\"line\": {\"color\": \"#E5ECF6\", \"width\": 0.5}}, \"type\": \"barpolar\"}], \"carpet\": [{\"aaxis\": {\"endlinecolor\": \"#2a3f5f\", \"gridcolor\": \"white\", \"linecolor\": \"white\", \"minorgridcolor\": \"white\", \"startlinecolor\": \"#2a3f5f\"}, \"baxis\": {\"endlinecolor\": \"#2a3f5f\", \"gridcolor\": \"white\", \"linecolor\": \"white\", \"minorgridcolor\": \"white\", \"startlinecolor\": \"#2a3f5f\"}, \"type\": \"carpet\"}], \"choropleth\": [{\"colorbar\": {\"outlinewidth\": 0, \"ticks\": \"\"}, \"type\": \"choropleth\"}], \"contour\": [{\"colorbar\": {\"outlinewidth\": 0, \"ticks\": \"\"}, \"colorscale\": [[0.0, \"#0d0887\"], [0.1111111111111111, \"#46039f\"], [0.2222222222222222, \"#7201a8\"], [0.3333333333333333, \"#9c179e\"], [0.4444444444444444, \"#bd3786\"], [0.5555555555555556, \"#d8576b\"], [0.6666666666666666, \"#ed7953\"], [0.7777777777777778, \"#fb9f3a\"], [0.8888888888888888, \"#fdca26\"], [1.0, \"#f0f921\"]], \"type\": \"contour\"}], \"contourcarpet\": [{\"colorbar\": {\"outlinewidth\": 0, \"ticks\": \"\"}, \"type\": \"contourcarpet\"}], \"heatmap\": [{\"colorbar\": {\"outlinewidth\": 0, \"ticks\": \"\"}, \"colorscale\": [[0.0, \"#0d0887\"], [0.1111111111111111, \"#46039f\"], [0.2222222222222222, \"#7201a8\"], [0.3333333333333333, \"#9c179e\"], [0.4444444444444444, \"#bd3786\"], [0.5555555555555556, \"#d8576b\"], [0.6666666666666666, \"#ed7953\"], [0.7777777777777778, \"#fb9f3a\"], [0.8888888888888888, \"#fdca26\"], [1.0, \"#f0f921\"]], \"type\": \"heatmap\"}], \"heatmapgl\": [{\"colorbar\": {\"outlinewidth\": 0, \"ticks\": \"\"}, \"colorscale\": [[0.0, \"#0d0887\"], [0.1111111111111111, \"#46039f\"], [0.2222222222222222, \"#7201a8\"], [0.3333333333333333, \"#9c179e\"], [0.4444444444444444, \"#bd3786\"], [0.5555555555555556, \"#d8576b\"], [0.6666666666666666, \"#ed7953\"], [0.7777777777777778, \"#fb9f3a\"], [0.8888888888888888, \"#fdca26\"], [1.0, \"#f0f921\"]], \"type\": \"heatmapgl\"}], \"histogram\": [{\"marker\": {\"colorbar\": {\"outlinewidth\": 0, \"ticks\": \"\"}}, \"type\": \"histogram\"}], \"histogram2d\": [{\"colorbar\": {\"outlinewidth\": 0, \"ticks\": \"\"}, \"colorscale\": [[0.0, \"#0d0887\"], [0.1111111111111111, \"#46039f\"], [0.2222222222222222, \"#7201a8\"], [0.3333333333333333, \"#9c179e\"], [0.4444444444444444, \"#bd3786\"], [0.5555555555555556, \"#d8576b\"], [0.6666666666666666, \"#ed7953\"], [0.7777777777777778, \"#fb9f3a\"], [0.8888888888888888, \"#fdca26\"], [1.0, \"#f0f921\"]], \"type\": \"histogram2d\"}], \"histogram2dcontour\": [{\"colorbar\": {\"outlinewidth\": 0, \"ticks\": \"\"}, \"colorscale\": [[0.0, \"#0d0887\"], [0.1111111111111111, \"#46039f\"], [0.2222222222222222, \"#7201a8\"], [0.3333333333333333, \"#9c179e\"], [0.4444444444444444, \"#bd3786\"], [0.5555555555555556, \"#d8576b\"], [0.6666666666666666, \"#ed7953\"], [0.7777777777777778, \"#fb9f3a\"], [0.8888888888888888, \"#fdca26\"], [1.0, \"#f0f921\"]], \"type\": \"histogram2dcontour\"}], \"mesh3d\": [{\"colorbar\": {\"outlinewidth\": 0, \"ticks\": \"\"}, \"type\": \"mesh3d\"}], \"parcoords\": [{\"line\": {\"colorbar\": {\"outlinewidth\": 0, \"ticks\": \"\"}}, \"type\": \"parcoords\"}], \"pie\": [{\"automargin\": true, \"type\": \"pie\"}], \"scatter\": [{\"marker\": {\"colorbar\": {\"outlinewidth\": 0, \"ticks\": \"\"}}, \"type\": \"scatter\"}], \"scatter3d\": [{\"line\": {\"colorbar\": {\"outlinewidth\": 0, \"ticks\": \"\"}}, \"marker\": {\"colorbar\": {\"outlinewidth\": 0, \"ticks\": \"\"}}, \"type\": \"scatter3d\"}], \"scattercarpet\": [{\"marker\": {\"colorbar\": {\"outlinewidth\": 0, \"ticks\": \"\"}}, \"type\": \"scattercarpet\"}], \"scattergeo\": [{\"marker\": {\"colorbar\": {\"outlinewidth\": 0, \"ticks\": \"\"}}, \"type\": \"scattergeo\"}], \"scattergl\": [{\"marker\": {\"colorbar\": {\"outlinewidth\": 0, \"ticks\": \"\"}}, \"type\": \"scattergl\"}], \"scattermapbox\": [{\"marker\": {\"colorbar\": {\"outlinewidth\": 0, \"ticks\": \"\"}}, \"type\": \"scattermapbox\"}], \"scatterpolar\": [{\"marker\": {\"colorbar\": {\"outlinewidth\": 0, \"ticks\": \"\"}}, \"type\": \"scatterpolar\"}], \"scatterpolargl\": [{\"marker\": {\"colorbar\": {\"outlinewidth\": 0, \"ticks\": \"\"}}, \"type\": \"scatterpolargl\"}], \"scatterternary\": [{\"marker\": {\"colorbar\": {\"outlinewidth\": 0, \"ticks\": \"\"}}, \"type\": \"scatterternary\"}], \"surface\": [{\"colorbar\": {\"outlinewidth\": 0, \"ticks\": \"\"}, \"colorscale\": [[0.0, \"#0d0887\"], [0.1111111111111111, \"#46039f\"], [0.2222222222222222, \"#7201a8\"], [0.3333333333333333, \"#9c179e\"], [0.4444444444444444, \"#bd3786\"], [0.5555555555555556, \"#d8576b\"], [0.6666666666666666, \"#ed7953\"], [0.7777777777777778, \"#fb9f3a\"], [0.8888888888888888, \"#fdca26\"], [1.0, \"#f0f921\"]], \"type\": \"surface\"}], \"table\": [{\"cells\": {\"fill\": {\"color\": \"#EBF0F8\"}, \"line\": {\"color\": \"white\"}}, \"header\": {\"fill\": {\"color\": \"#C8D4E3\"}, \"line\": {\"color\": \"white\"}}, \"type\": \"table\"}]}, \"layout\": {\"annotationdefaults\": {\"arrowcolor\": \"#2a3f5f\", \"arrowhead\": 0, \"arrowwidth\": 1}, \"coloraxis\": {\"colorbar\": {\"outlinewidth\": 0, \"ticks\": \"\"}}, \"colorscale\": {\"diverging\": [[0, \"#8e0152\"], [0.1, \"#c51b7d\"], [0.2, \"#de77ae\"], [0.3, \"#f1b6da\"], [0.4, \"#fde0ef\"], [0.5, \"#f7f7f7\"], [0.6, \"#e6f5d0\"], [0.7, \"#b8e186\"], [0.8, \"#7fbc41\"], [0.9, \"#4d9221\"], [1, \"#276419\"]], \"sequential\": [[0.0, \"#0d0887\"], [0.1111111111111111, \"#46039f\"], [0.2222222222222222, \"#7201a8\"], [0.3333333333333333, \"#9c179e\"], [0.4444444444444444, \"#bd3786\"], [0.5555555555555556, \"#d8576b\"], [0.6666666666666666, \"#ed7953\"], [0.7777777777777778, \"#fb9f3a\"], [0.8888888888888888, \"#fdca26\"], [1.0, \"#f0f921\"]], \"sequentialminus\": [[0.0, \"#0d0887\"], [0.1111111111111111, \"#46039f\"], [0.2222222222222222, \"#7201a8\"], [0.3333333333333333, \"#9c179e\"], [0.4444444444444444, \"#bd3786\"], [0.5555555555555556, \"#d8576b\"], [0.6666666666666666, \"#ed7953\"], [0.7777777777777778, \"#fb9f3a\"], [0.8888888888888888, \"#fdca26\"], [1.0, \"#f0f921\"]]}, \"colorway\": [\"#636efa\", \"#EF553B\", \"#00cc96\", \"#ab63fa\", \"#FFA15A\", \"#19d3f3\", \"#FF6692\", \"#B6E880\", \"#FF97FF\", \"#FECB52\"], \"font\": {\"color\": \"#2a3f5f\"}, \"geo\": {\"bgcolor\": \"white\", \"lakecolor\": \"white\", \"landcolor\": \"#E5ECF6\", \"showlakes\": true, \"showland\": true, \"subunitcolor\": \"white\"}, \"hoverlabel\": {\"align\": \"left\"}, \"hovermode\": \"closest\", \"mapbox\": {\"style\": \"light\"}, \"paper_bgcolor\": \"white\", \"plot_bgcolor\": \"#E5ECF6\", \"polar\": {\"angularaxis\": {\"gridcolor\": \"white\", \"linecolor\": \"white\", \"ticks\": \"\"}, \"bgcolor\": \"#E5ECF6\", \"radialaxis\": {\"gridcolor\": \"white\", \"linecolor\": \"white\", \"ticks\": \"\"}}, \"scene\": {\"xaxis\": {\"backgroundcolor\": \"#E5ECF6\", \"gridcolor\": \"white\", \"gridwidth\": 2, \"linecolor\": \"white\", \"showbackground\": true, \"ticks\": \"\", \"zerolinecolor\": \"white\"}, \"yaxis\": {\"backgroundcolor\": \"#E5ECF6\", \"gridcolor\": \"white\", \"gridwidth\": 2, \"linecolor\": \"white\", \"showbackground\": true, \"ticks\": \"\", \"zerolinecolor\": \"white\"}, \"zaxis\": {\"backgroundcolor\": \"#E5ECF6\", \"gridcolor\": \"white\", \"gridwidth\": 2, \"linecolor\": \"white\", \"showbackground\": true, \"ticks\": \"\", \"zerolinecolor\": \"white\"}}, \"shapedefaults\": {\"line\": {\"color\": \"#2a3f5f\"}}, \"ternary\": {\"aaxis\": {\"gridcolor\": \"white\", \"linecolor\": \"white\", \"ticks\": \"\"}, \"baxis\": {\"gridcolor\": \"white\", \"linecolor\": \"white\", \"ticks\": \"\"}, \"bgcolor\": \"#E5ECF6\", \"caxis\": {\"gridcolor\": \"white\", \"linecolor\": \"white\", \"ticks\": \"\"}}, \"title\": {\"x\": 0.05}, \"xaxis\": {\"automargin\": true, \"gridcolor\": \"white\", \"linecolor\": \"white\", \"ticks\": \"\", \"title\": {\"standoff\": 15}, \"zerolinecolor\": \"white\", \"zerolinewidth\": 2}, \"yaxis\": {\"automargin\": true, \"gridcolor\": \"white\", \"linecolor\": \"white\", \"ticks\": \"\", \"title\": {\"standoff\": 15}, \"zerolinecolor\": \"white\", \"zerolinewidth\": 2}}}, \"title\": {\"text\": \"Possible Points Each Week vs Pro Consensus Recommended Lineup\"}, \"xaxis\": {\"dtick\": 1, \"tick0\": 0, \"tickangle\": -45, \"tickmode\": \"linear\", \"title\": {\"text\": \"Week\"}}, \"yaxis\": {\"title\": {\"text\": \"Points\"}}},\n",
       "                        {\"responsive\": true}\n",
       "                    ).then(function(){\n",
       "                            \n",
       "var gd = document.getElementById('a26dcf56-11b0-4a28-a9e9-3b4f3471cc90');\n",
       "var x = new MutationObserver(function (mutations, observer) {{\n",
       "        var display = window.getComputedStyle(gd).display;\n",
       "        if (!display || display === 'none') {{\n",
       "            console.log([gd, 'removed!']);\n",
       "            Plotly.purge(gd);\n",
       "            observer.disconnect();\n",
       "        }}\n",
       "}});\n",
       "\n",
       "// Listen for the removal of the full notebook cells\n",
       "var notebookContainer = gd.closest('#notebook-container');\n",
       "if (notebookContainer) {{\n",
       "    x.observe(notebookContainer, {childList: true});\n",
       "}}\n",
       "\n",
       "// Listen for the clearing of the current output cell\n",
       "var outputEl = gd.closest('.output');\n",
       "if (outputEl) {{\n",
       "    x.observe(outputEl, {childList: true});\n",
       "}}\n",
       "\n",
       "                        })\n",
       "                };\n",
       "                });\n",
       "            </script>\n",
       "        </div>"
      ]
     },
     "metadata": {},
     "output_type": "display_data"
    }
   ],
   "source": [
    "import plotly.graph_objects as go\n",
    "weeks = []\n",
    "for i in range(1,14):\n",
    "    weeks.append(i)\n",
    "\n",
    "\n",
    "fig = go.Figure()\n",
    "fig.add_trace(go.Bar(\n",
    "    x=weeks,\n",
    "    y=weekly_points.realized_points,\n",
    "    name='Player Chosen Lineup',\n",
    "    marker_color='indianred'\n",
    "))\n",
    "fig.add_trace(go.Bar(\n",
    "    x=weeks,\n",
    "    y=weekly_points.pro_points,\n",
    "    name='Pro Consensus Recommended Lineup',\n",
    "    marker_color='lightsalmon'\n",
    "))\n",
    "\n",
    "fig.update_layout(\n",
    "    title=\"Possible Points Each Week vs Pro Consensus Recommended Lineup\",\n",
    "    xaxis_title=\"Week\",\n",
    "    yaxis_title=\"Points\",\n",
    "    font=dict(\n",
    "        family=\"Courier New, monospace\",\n",
    "        size=18,\n",
    "        color=\"#7f7f7f\"\n",
    "    )\n",
    ")\n",
    "\n",
    "# Here we modify the tickangle of the xaxis, resulting in rotated labels.\n",
    "fig.update_layout(barmode='group', xaxis_tickangle=-45)\n",
    "\n",
    "print(\"Weeks pro recommended line-up outperformed player chosen lineup:\", sum(weekly_points.realized_points<weekly_points.pro_points))\n",
    "print(\"Weeks player chosen line-up outperformed pro recommended lineup:\", sum(weekly_points.realized_points>weekly_points.pro_points))\n",
    "print(\"Average amount of points pro recommended line-up on average outperformed player chosen lineup\", round(sum(weekly_points.pro_points-weekly_points.realized_points)/len(weekly_points.pro_points)*100)/100)\n",
    "\n",
    "fig.update_layout(\n",
    "    xaxis = dict(\n",
    "        tickmode = 'linear',\n",
    "        tick0 = 0,\n",
    "        dtick = 1\n",
    "    )\n",
    ")\n",
    "\n",
    "fig.show()\n",
    "\n"
   ]
  },
  {
   "cell_type": "code",
   "execution_count": 76,
   "metadata": {},
   "outputs": [
    {
     "data": {
      "text/html": [
       "<div>\n",
       "<style scoped>\n",
       "    .dataframe tbody tr th:only-of-type {\n",
       "        vertical-align: middle;\n",
       "    }\n",
       "\n",
       "    .dataframe tbody tr th {\n",
       "        vertical-align: top;\n",
       "    }\n",
       "\n",
       "    .dataframe thead th {\n",
       "        text-align: right;\n",
       "    }\n",
       "</style>\n",
       "<table border=\"1\" class=\"dataframe\">\n",
       "  <thead>\n",
       "    <tr style=\"text-align: right;\">\n",
       "      <th></th>\n",
       "      <th>position</th>\n",
       "      <th>player</th>\n",
       "      <th>points</th>\n",
       "    </tr>\n",
       "  </thead>\n",
       "  <tbody>\n",
       "    <tr>\n",
       "      <th>3</th>\n",
       "      <td>WR</td>\n",
       "      <td>Tyler Boyd</td>\n",
       "      <td>14.3</td>\n",
       "    </tr>\n",
       "    <tr>\n",
       "      <th>4</th>\n",
       "      <td>WR</td>\n",
       "      <td>John Brown</td>\n",
       "      <td>26.3</td>\n",
       "    </tr>\n",
       "    <tr>\n",
       "      <th>5</th>\n",
       "      <td>TE</td>\n",
       "      <td>George Kittle</td>\n",
       "      <td>13.4</td>\n",
       "    </tr>\n",
       "    <tr>\n",
       "      <th>7</th>\n",
       "      <td>WR</td>\n",
       "      <td>Donte Moncrief</td>\n",
       "      <td>3.7</td>\n",
       "    </tr>\n",
       "    <tr>\n",
       "      <th>8</th>\n",
       "      <td>D/ST</td>\n",
       "      <td>Ravens D/ST</td>\n",
       "      <td>14.0</td>\n",
       "    </tr>\n",
       "    <tr>\n",
       "      <th>10</th>\n",
       "      <td>WR</td>\n",
       "      <td>Geronimo Allison</td>\n",
       "      <td>0.0</td>\n",
       "    </tr>\n",
       "    <tr>\n",
       "      <th>11</th>\n",
       "      <td>WR</td>\n",
       "      <td>DK Metcalf</td>\n",
       "      <td>12.9</td>\n",
       "    </tr>\n",
       "    <tr>\n",
       "      <th>12</th>\n",
       "      <td>WR</td>\n",
       "      <td>Albert Wilson</td>\n",
       "      <td>3.4</td>\n",
       "    </tr>\n",
       "    <tr>\n",
       "      <th>13</th>\n",
       "      <td>RB</td>\n",
       "      <td>Darwin Thompson</td>\n",
       "      <td>1.3</td>\n",
       "    </tr>\n",
       "    <tr>\n",
       "      <th>14</th>\n",
       "      <td>RB</td>\n",
       "      <td>Chase Edmonds</td>\n",
       "      <td>0.5</td>\n",
       "    </tr>\n",
       "    <tr>\n",
       "      <th>15</th>\n",
       "      <td>WR</td>\n",
       "      <td>Hunter Renfrow</td>\n",
       "      <td>3.3</td>\n",
       "    </tr>\n",
       "  </tbody>\n",
       "</table>\n",
       "</div>"
      ],
      "text/plain": [
       "   position            player  points\n",
       "3        WR        Tyler Boyd    14.3\n",
       "4        WR        John Brown    26.3\n",
       "5        TE     George Kittle    13.4\n",
       "7        WR    Donte Moncrief     3.7\n",
       "8      D/ST       Ravens D/ST    14.0\n",
       "10       WR  Geronimo Allison     0.0\n",
       "11       WR        DK Metcalf    12.9\n",
       "12       WR     Albert Wilson     3.4\n",
       "13       RB   Darwin Thompson     1.3\n",
       "14       RB     Chase Edmonds     0.5\n",
       "15       WR    Hunter Renfrow     3.3"
      ]
     },
     "execution_count": 76,
     "metadata": {},
     "output_type": "execute_result"
    }
   ],
   "source": [
    "weekly2"
   ]
  },
  {
   "cell_type": "code",
   "execution_count": 132,
   "metadata": {},
   "outputs": [
    {
     "data": {
      "text/html": [
       "<div>\n",
       "<style scoped>\n",
       "    .dataframe tbody tr th:only-of-type {\n",
       "        vertical-align: middle;\n",
       "    }\n",
       "\n",
       "    .dataframe tbody tr th {\n",
       "        vertical-align: top;\n",
       "    }\n",
       "\n",
       "    .dataframe thead th {\n",
       "        text-align: right;\n",
       "    }\n",
       "</style>\n",
       "<table border=\"1\" class=\"dataframe\">\n",
       "  <thead>\n",
       "    <tr style=\"text-align: right;\">\n",
       "      <th></th>\n",
       "      <th>realized_points</th>\n",
       "      <th>pro_points</th>\n",
       "    </tr>\n",
       "  </thead>\n",
       "  <tbody>\n",
       "    <tr>\n",
       "      <th>realized_points</th>\n",
       "      <td>1.000000</td>\n",
       "      <td>0.945685</td>\n",
       "    </tr>\n",
       "    <tr>\n",
       "      <th>pro_points</th>\n",
       "      <td>0.945685</td>\n",
       "      <td>1.000000</td>\n",
       "    </tr>\n",
       "  </tbody>\n",
       "</table>\n",
       "</div>"
      ],
      "text/plain": [
       "                 realized_points  pro_points\n",
       "realized_points         1.000000    0.945685\n",
       "pro_points              0.945685    1.000000"
      ]
     },
     "execution_count": 132,
     "metadata": {},
     "output_type": "execute_result"
    }
   ],
   "source": [
    "\n",
    "getting_corr = weekly_points.loc[:,['realized_points','pro_points']]\n",
    "getting_corr.corr(method ='pearson')"
   ]
  },
  {
   "cell_type": "code",
   "execution_count": 130,
   "metadata": {},
   "outputs": [
    {
     "data": {
      "text/html": [
       "<div>\n",
       "<style scoped>\n",
       "    .dataframe tbody tr th:only-of-type {\n",
       "        vertical-align: middle;\n",
       "    }\n",
       "\n",
       "    .dataframe tbody tr th {\n",
       "        vertical-align: top;\n",
       "    }\n",
       "\n",
       "    .dataframe thead th {\n",
       "        text-align: right;\n",
       "    }\n",
       "</style>\n",
       "<table border=\"1\" class=\"dataframe\">\n",
       "  <thead>\n",
       "    <tr style=\"text-align: right;\">\n",
       "      <th></th>\n",
       "      <th>realized_points</th>\n",
       "      <th>poss_points</th>\n",
       "      <th>pro_points</th>\n",
       "    </tr>\n",
       "  </thead>\n",
       "  <tbody>\n",
       "    <tr>\n",
       "      <th>0</th>\n",
       "      <td>139.12</td>\n",
       "      <td>148.32</td>\n",
       "      <td>116.52</td>\n",
       "    </tr>\n",
       "    <tr>\n",
       "      <th>1</th>\n",
       "      <td>133.36</td>\n",
       "      <td>135.26</td>\n",
       "      <td>133.36</td>\n",
       "    </tr>\n",
       "    <tr>\n",
       "      <th>2</th>\n",
       "      <td>121.34</td>\n",
       "      <td>144.44</td>\n",
       "      <td>121.34</td>\n",
       "    </tr>\n",
       "    <tr>\n",
       "      <th>3</th>\n",
       "      <td>65.10</td>\n",
       "      <td>81.70</td>\n",
       "      <td>68.40</td>\n",
       "    </tr>\n",
       "    <tr>\n",
       "      <th>4</th>\n",
       "      <td>190.24</td>\n",
       "      <td>201.44</td>\n",
       "      <td>195.84</td>\n",
       "    </tr>\n",
       "    <tr>\n",
       "      <th>5</th>\n",
       "      <td>133.50</td>\n",
       "      <td>136.50</td>\n",
       "      <td>120.40</td>\n",
       "    </tr>\n",
       "    <tr>\n",
       "      <th>6</th>\n",
       "      <td>130.32</td>\n",
       "      <td>135.02</td>\n",
       "      <td>127.62</td>\n",
       "    </tr>\n",
       "    <tr>\n",
       "      <th>7</th>\n",
       "      <td>169.56</td>\n",
       "      <td>171.26</td>\n",
       "      <td>171.26</td>\n",
       "    </tr>\n",
       "    <tr>\n",
       "      <th>8</th>\n",
       "      <td>130.64</td>\n",
       "      <td>149.24</td>\n",
       "      <td>149.14</td>\n",
       "    </tr>\n",
       "    <tr>\n",
       "      <th>9</th>\n",
       "      <td>124.68</td>\n",
       "      <td>124.68</td>\n",
       "      <td>124.68</td>\n",
       "    </tr>\n",
       "    <tr>\n",
       "      <th>10</th>\n",
       "      <td>97.06</td>\n",
       "      <td>129.86</td>\n",
       "      <td>97.06</td>\n",
       "    </tr>\n",
       "    <tr>\n",
       "      <th>11</th>\n",
       "      <td>128.32</td>\n",
       "      <td>130.32</td>\n",
       "      <td>113.02</td>\n",
       "    </tr>\n",
       "    <tr>\n",
       "      <th>12</th>\n",
       "      <td>134.68</td>\n",
       "      <td>172.26</td>\n",
       "      <td>134.68</td>\n",
       "    </tr>\n",
       "  </tbody>\n",
       "</table>\n",
       "</div>"
      ],
      "text/plain": [
       "    realized_points  poss_points  pro_points\n",
       "0            139.12       148.32      116.52\n",
       "1            133.36       135.26      133.36\n",
       "2            121.34       144.44      121.34\n",
       "3             65.10        81.70       68.40\n",
       "4            190.24       201.44      195.84\n",
       "5            133.50       136.50      120.40\n",
       "6            130.32       135.02      127.62\n",
       "7            169.56       171.26      171.26\n",
       "8            130.64       149.24      149.14\n",
       "9            124.68       124.68      124.68\n",
       "10            97.06       129.86       97.06\n",
       "11           128.32       130.32      113.02\n",
       "12           134.68       172.26      134.68"
      ]
     },
     "execution_count": 130,
     "metadata": {},
     "output_type": "execute_result"
    }
   ],
   "source": [
    "weekly_points"
   ]
  },
  {
   "cell_type": "code",
   "execution_count": null,
   "metadata": {},
   "outputs": [],
   "source": []
  }
 ],
 "metadata": {
  "kernelspec": {
   "display_name": "Python 3",
   "language": "python",
   "name": "python3"
  },
  "language_info": {
   "codemirror_mode": {
    "name": "ipython",
    "version": 3
   },
   "file_extension": ".py",
   "mimetype": "text/x-python",
   "name": "python",
   "nbconvert_exporter": "python",
   "pygments_lexer": "ipython3",
   "version": "3.7.3"
  }
 },
 "nbformat": 4,
 "nbformat_minor": 2
}
